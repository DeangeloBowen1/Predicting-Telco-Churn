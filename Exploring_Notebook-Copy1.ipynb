{
 "cells": [
  {
   "cell_type": "code",
   "execution_count": 1,
   "id": "b327dcc0",
   "metadata": {},
   "outputs": [],
   "source": [
    "import pandas as pd\n",
    "import numpy as np\n",
    "import matplotlib.pyplot as plt\n",
    "import seaborn as sns\n",
    "from sklearn.model_selection import train_test_split\n",
    "from scipy import stats as stats\n",
    "\n",
    "from sklearn.tree import DecisionTreeClassifier, plot_tree, export_text\n",
    "from sklearn.ensemble import RandomForestClassifier\n",
    "from sklearn.neighbors import KNeighborsClassifier\n",
    "from sklearn.linear_model import LogisticRegression\n",
    "from sklearn.metrics import recall_score, precision_score, f1_score, accuracy_score\n",
    "from sklearn.metrics import classification_report\n",
    "from sklearn.metrics import confusion_matrix\n",
    "\n",
    "import warnings\n",
    "warnings.filterwarnings(\"ignore\")\n",
    "\n",
    "\n",
    "import acquire as aq\n",
    "import prepare as prep"
   ]
  },
  {
   "cell_type": "markdown",
   "id": "5dd2fc4c",
   "metadata": {},
   "source": [
    "# Preparation\n",
    "\n",
    "### Reworking a bit of data...\n",
    "- Since the goal of working with the predictions.csv requires the customer ID column, I decided to rework my aquire.py and prepare.py to fit the needs of the overall project. \n",
    "- Below are the results of the dataframe(s) after the rework in the .py files were implemented."
   ]
  },
  {
   "cell_type": "code",
   "execution_count": 2,
   "id": "2e14714a",
   "metadata": {},
   "outputs": [],
   "source": [
    "# calling the aquire.py file get_telco_data() function\n",
    "telco = aq.get_telco_data()"
   ]
  },
  {
   "cell_type": "code",
   "execution_count": 3,
   "id": "72970405",
   "metadata": {
    "scrolled": true
   },
   "outputs": [
    {
     "data": {
      "text/html": [
       "<div>\n",
       "<style scoped>\n",
       "    .dataframe tbody tr th:only-of-type {\n",
       "        vertical-align: middle;\n",
       "    }\n",
       "\n",
       "    .dataframe tbody tr th {\n",
       "        vertical-align: top;\n",
       "    }\n",
       "\n",
       "    .dataframe thead th {\n",
       "        text-align: right;\n",
       "    }\n",
       "</style>\n",
       "<table border=\"1\" class=\"dataframe\">\n",
       "  <thead>\n",
       "    <tr style=\"text-align: right;\">\n",
       "      <th></th>\n",
       "      <th>internet_service_type_id</th>\n",
       "      <th>payment_type_id</th>\n",
       "      <th>contract_type_id</th>\n",
       "      <th>customer_id</th>\n",
       "      <th>gender</th>\n",
       "      <th>senior_citizen</th>\n",
       "      <th>partner</th>\n",
       "      <th>dependents</th>\n",
       "      <th>tenure</th>\n",
       "      <th>phone_service</th>\n",
       "      <th>...</th>\n",
       "      <th>tech_support</th>\n",
       "      <th>streaming_tv</th>\n",
       "      <th>streaming_movies</th>\n",
       "      <th>paperless_billing</th>\n",
       "      <th>monthly_charges</th>\n",
       "      <th>total_charges</th>\n",
       "      <th>churn</th>\n",
       "      <th>contract_type</th>\n",
       "      <th>payment_type</th>\n",
       "      <th>internet_service_type</th>\n",
       "    </tr>\n",
       "  </thead>\n",
       "  <tbody>\n",
       "    <tr>\n",
       "      <th>0</th>\n",
       "      <td>1</td>\n",
       "      <td>2</td>\n",
       "      <td>2</td>\n",
       "      <td>0002-ORFBO</td>\n",
       "      <td>Female</td>\n",
       "      <td>0</td>\n",
       "      <td>Yes</td>\n",
       "      <td>Yes</td>\n",
       "      <td>9</td>\n",
       "      <td>Yes</td>\n",
       "      <td>...</td>\n",
       "      <td>Yes</td>\n",
       "      <td>Yes</td>\n",
       "      <td>No</td>\n",
       "      <td>Yes</td>\n",
       "      <td>65.6</td>\n",
       "      <td>593.3</td>\n",
       "      <td>No</td>\n",
       "      <td>One year</td>\n",
       "      <td>Mailed check</td>\n",
       "      <td>DSL</td>\n",
       "    </tr>\n",
       "    <tr>\n",
       "      <th>1</th>\n",
       "      <td>1</td>\n",
       "      <td>2</td>\n",
       "      <td>1</td>\n",
       "      <td>0003-MKNFE</td>\n",
       "      <td>Male</td>\n",
       "      <td>0</td>\n",
       "      <td>No</td>\n",
       "      <td>No</td>\n",
       "      <td>9</td>\n",
       "      <td>Yes</td>\n",
       "      <td>...</td>\n",
       "      <td>No</td>\n",
       "      <td>No</td>\n",
       "      <td>Yes</td>\n",
       "      <td>No</td>\n",
       "      <td>59.9</td>\n",
       "      <td>542.4</td>\n",
       "      <td>No</td>\n",
       "      <td>Month-to-month</td>\n",
       "      <td>Mailed check</td>\n",
       "      <td>DSL</td>\n",
       "    </tr>\n",
       "    <tr>\n",
       "      <th>2</th>\n",
       "      <td>2</td>\n",
       "      <td>1</td>\n",
       "      <td>1</td>\n",
       "      <td>0004-TLHLJ</td>\n",
       "      <td>Male</td>\n",
       "      <td>0</td>\n",
       "      <td>No</td>\n",
       "      <td>No</td>\n",
       "      <td>4</td>\n",
       "      <td>Yes</td>\n",
       "      <td>...</td>\n",
       "      <td>No</td>\n",
       "      <td>No</td>\n",
       "      <td>No</td>\n",
       "      <td>Yes</td>\n",
       "      <td>73.9</td>\n",
       "      <td>280.85</td>\n",
       "      <td>Yes</td>\n",
       "      <td>Month-to-month</td>\n",
       "      <td>Electronic check</td>\n",
       "      <td>Fiber optic</td>\n",
       "    </tr>\n",
       "    <tr>\n",
       "      <th>3</th>\n",
       "      <td>2</td>\n",
       "      <td>1</td>\n",
       "      <td>1</td>\n",
       "      <td>0011-IGKFF</td>\n",
       "      <td>Male</td>\n",
       "      <td>1</td>\n",
       "      <td>Yes</td>\n",
       "      <td>No</td>\n",
       "      <td>13</td>\n",
       "      <td>Yes</td>\n",
       "      <td>...</td>\n",
       "      <td>No</td>\n",
       "      <td>Yes</td>\n",
       "      <td>Yes</td>\n",
       "      <td>Yes</td>\n",
       "      <td>98.0</td>\n",
       "      <td>1237.85</td>\n",
       "      <td>Yes</td>\n",
       "      <td>Month-to-month</td>\n",
       "      <td>Electronic check</td>\n",
       "      <td>Fiber optic</td>\n",
       "    </tr>\n",
       "    <tr>\n",
       "      <th>4</th>\n",
       "      <td>2</td>\n",
       "      <td>2</td>\n",
       "      <td>1</td>\n",
       "      <td>0013-EXCHZ</td>\n",
       "      <td>Female</td>\n",
       "      <td>1</td>\n",
       "      <td>Yes</td>\n",
       "      <td>No</td>\n",
       "      <td>3</td>\n",
       "      <td>Yes</td>\n",
       "      <td>...</td>\n",
       "      <td>Yes</td>\n",
       "      <td>Yes</td>\n",
       "      <td>No</td>\n",
       "      <td>Yes</td>\n",
       "      <td>83.9</td>\n",
       "      <td>267.4</td>\n",
       "      <td>Yes</td>\n",
       "      <td>Month-to-month</td>\n",
       "      <td>Mailed check</td>\n",
       "      <td>Fiber optic</td>\n",
       "    </tr>\n",
       "  </tbody>\n",
       "</table>\n",
       "<p>5 rows × 24 columns</p>\n",
       "</div>"
      ],
      "text/plain": [
       "   internet_service_type_id  payment_type_id  contract_type_id customer_id  \\\n",
       "0                         1                2                 2  0002-ORFBO   \n",
       "1                         1                2                 1  0003-MKNFE   \n",
       "2                         2                1                 1  0004-TLHLJ   \n",
       "3                         2                1                 1  0011-IGKFF   \n",
       "4                         2                2                 1  0013-EXCHZ   \n",
       "\n",
       "   gender  senior_citizen partner dependents  tenure phone_service  ...  \\\n",
       "0  Female               0     Yes        Yes       9           Yes  ...   \n",
       "1    Male               0      No         No       9           Yes  ...   \n",
       "2    Male               0      No         No       4           Yes  ...   \n",
       "3    Male               1     Yes         No      13           Yes  ...   \n",
       "4  Female               1     Yes         No       3           Yes  ...   \n",
       "\n",
       "  tech_support streaming_tv streaming_movies paperless_billing  \\\n",
       "0          Yes          Yes               No               Yes   \n",
       "1           No           No              Yes                No   \n",
       "2           No           No               No               Yes   \n",
       "3           No          Yes              Yes               Yes   \n",
       "4          Yes          Yes               No               Yes   \n",
       "\n",
       "  monthly_charges total_charges churn   contract_type      payment_type  \\\n",
       "0            65.6         593.3    No        One year      Mailed check   \n",
       "1            59.9         542.4    No  Month-to-month      Mailed check   \n",
       "2            73.9        280.85   Yes  Month-to-month  Electronic check   \n",
       "3            98.0       1237.85   Yes  Month-to-month  Electronic check   \n",
       "4            83.9         267.4   Yes  Month-to-month      Mailed check   \n",
       "\n",
       "  internet_service_type  \n",
       "0                   DSL  \n",
       "1                   DSL  \n",
       "2           Fiber optic  \n",
       "3           Fiber optic  \n",
       "4           Fiber optic  \n",
       "\n",
       "[5 rows x 24 columns]"
      ]
     },
     "execution_count": 3,
     "metadata": {},
     "output_type": "execute_result"
    }
   ],
   "source": [
    "# dropping any duplicate columns : check\n",
    "telco.drop_duplicates()\n",
    "\n",
    "# initial overview of the raw telco data retrieved from the SQL\n",
    "# database\n",
    "\n",
    "# Here, the idea is to recognize what is needed and what is not.\n",
    "telco.head()"
   ]
  },
  {
   "cell_type": "code",
   "execution_count": 4,
   "id": "6f0716e3",
   "metadata": {},
   "outputs": [
    {
     "data": {
      "text/plain": [
       "internet_service_type_id    0\n",
       "payment_type_id             0\n",
       "contract_type_id            0\n",
       "customer_id                 0\n",
       "gender                      0\n",
       "senior_citizen              0\n",
       "partner                     0\n",
       "dependents                  0\n",
       "tenure                      0\n",
       "phone_service               0\n",
       "multiple_lines              0\n",
       "online_security             0\n",
       "online_backup               0\n",
       "device_protection           0\n",
       "tech_support                0\n",
       "streaming_tv                0\n",
       "streaming_movies            0\n",
       "paperless_billing           0\n",
       "monthly_charges             0\n",
       "total_charges               0\n",
       "churn                       0\n",
       "contract_type               0\n",
       "payment_type                0\n",
       "internet_service_type       0\n",
       "dtype: int64"
      ]
     },
     "execution_count": 4,
     "metadata": {},
     "output_type": "execute_result"
    }
   ],
   "source": [
    "# Now I check the nulls\n",
    "telco.isna().sum()"
   ]
  },
  {
   "cell_type": "markdown",
   "id": "d32ce857",
   "metadata": {},
   "source": [
    "### This is where it gets a bit tricky. \n",
    "- Ultimately, the gender column will need to be represented in 0's and 1's to properly model them if needed. \n",
    "- This is also true when getting certain statistical values on the entire dataframe such as a baseline percentage.\n",
    "\n",
    "- Certain columns were also replicated into dummy columns and represented by 0's and 1's for later purposes. These columns include:\n",
    "    - All Contract Types\n",
    "    - All Payment Types\n",
    "- Certain columns such as the multiple_lines columns that are objects might cause issues in the future if not fixed now."
   ]
  },
  {
   "cell_type": "code",
   "execution_count": 5,
   "id": "18abf291",
   "metadata": {},
   "outputs": [],
   "source": [
    "# Here I prepared and split the data from my prepare.py file\n",
    "# function prep_telco()\n",
    "\n",
    "df = prep.prep_telco(telco)"
   ]
  },
  {
   "cell_type": "code",
   "execution_count": 6,
   "id": "9db13c23",
   "metadata": {},
   "outputs": [],
   "source": [
    "train, validate, test = df"
   ]
  },
  {
   "cell_type": "code",
   "execution_count": 7,
   "id": "4144f1f1",
   "metadata": {
    "scrolled": false
   },
   "outputs": [
    {
     "name": "stdout",
     "output_type": "stream",
     "text": [
      "Male      1976\n",
      "Female    1961\n",
      "Name: gender, dtype: int64\n",
      "---------------------------------------------------\n",
      " \n",
      "0    3302\n",
      "1     635\n",
      "Name: senior_citizen, dtype: int64\n",
      "---------------------------------------------------\n",
      " \n",
      "0    2027\n",
      "1    1910\n",
      "Name: partner, dtype: int64\n",
      "---------------------------------------------------\n",
      " \n",
      "0    2745\n",
      "1    1192\n",
      "Name: dependents, dtype: int64\n",
      "---------------------------------------------------\n",
      " \n",
      "1    3564\n",
      "0     373\n",
      "Name: phone_service, dtype: int64\n",
      "---------------------------------------------------\n",
      " \n",
      "No                  1895\n",
      "Yes                 1669\n",
      "No phone service     373\n",
      "Name: multiple_lines, dtype: int64\n",
      "---------------------------------------------------\n",
      " \n",
      "1    2324\n",
      "0    1613\n",
      "Name: paperless_billing, dtype: int64\n",
      "---------------------------------------------------\n",
      " \n",
      "0    2891\n",
      "1    1046\n",
      "Name: churn, dtype: int64\n",
      "---------------------------------------------------\n",
      " \n",
      "Month-to-month    2165\n",
      "Two year           957\n",
      "One year           815\n",
      "Name: contract_type, dtype: int64\n",
      "---------------------------------------------------\n",
      " \n",
      "Electronic check             1289\n",
      "Credit card (automatic)       895\n",
      "Mailed check                  891\n",
      "Bank transfer (automatic)     862\n",
      "Name: payment_type, dtype: int64\n",
      "---------------------------------------------------\n",
      " \n",
      "Fiber optic    1722\n",
      "DSL            1348\n",
      "None            867\n",
      "Name: internet_service_type, dtype: int64\n",
      "---------------------------------------------------\n",
      " \n",
      "1    2165\n",
      "0    1772\n",
      "Name: contract_type_Month-to-month, dtype: int64\n",
      "---------------------------------------------------\n",
      " \n",
      "0    3122\n",
      "1     815\n",
      "Name: contract_type_One year, dtype: int64\n",
      "---------------------------------------------------\n",
      " \n",
      "0    2980\n",
      "1     957\n",
      "Name: contract_type_Two year, dtype: int64\n",
      "---------------------------------------------------\n",
      " \n",
      "0    3075\n",
      "1     862\n",
      "Name: payment_type_Bank transfer (automatic), dtype: int64\n",
      "---------------------------------------------------\n",
      " \n",
      "0    3042\n",
      "1     895\n",
      "Name: payment_type_Credit card (automatic), dtype: int64\n",
      "---------------------------------------------------\n",
      " \n",
      "0    2648\n",
      "1    1289\n",
      "Name: payment_type_Electronic check, dtype: int64\n",
      "---------------------------------------------------\n",
      " \n",
      "0    3046\n",
      "1     891\n",
      "Name: payment_type_Mailed check, dtype: int64\n",
      "---------------------------------------------------\n",
      " \n",
      "0    2589\n",
      "1    1348\n",
      "Name: internet_service_type_DSL, dtype: int64\n",
      "---------------------------------------------------\n",
      " \n",
      "0    2215\n",
      "1    1722\n",
      "Name: internet_service_type_Fiber optic, dtype: int64\n",
      "---------------------------------------------------\n",
      " \n",
      "0    3070\n",
      "1     867\n",
      "Name: internet_service_type_None, dtype: int64\n",
      "---------------------------------------------------\n",
      " \n"
     ]
    }
   ],
   "source": [
    "# for loop of all columns and their dtypes\n",
    "columns = train.columns\n",
    "for column in columns:\n",
    "    if column not in ['customer_id', 'tenure', 'monthly_charges', 'total_charges']:\n",
    "        print(train[column].value_counts())\n",
    "        print('---------------------------------------------------')\n",
    "        print(' ')\n"
   ]
  },
  {
   "cell_type": "markdown",
   "id": "a69cc07e",
   "metadata": {},
   "source": [
    "### Now to drop duplicate or redundant if needed, and change object columns to integer columns equating 1 = Yes and 0 = No"
   ]
  },
  {
   "cell_type": "code",
   "execution_count": 8,
   "id": "66d45720",
   "metadata": {
    "scrolled": true
   },
   "outputs": [],
   "source": [
    "# mapping gender\n",
    "train.gender = train.gender.map({'Male':1 , 'Female':0})\n",
    "train.gender.head()\n",
    "\n",
    "#mapping yes = 1, no = 1\n",
    "train.multiple_lines = train.multiple_lines.map({'Yes': 1, 'No': 0,\n",
    "                                                 'No phone service':2})\n",
    "\n",
    "# drop columns for which I have a numerical dummy column for\n",
    "drop_columns = ['contract_type', 'payment_type', 'internet_service_type']\n",
    "train = train.drop(columns = drop_columns)\n"
   ]
  },
  {
   "cell_type": "markdown",
   "id": "3eaa8de6",
   "metadata": {},
   "source": [
    "### Validate dataset"
   ]
  },
  {
   "cell_type": "code",
   "execution_count": 9,
   "id": "03cdf252",
   "metadata": {},
   "outputs": [],
   "source": [
    "# mapping gender\n",
    "validate.gender = validate.gender.map({'Male':1 , 'Female':0})\n",
    "validate.gender.head()\n",
    "\n",
    "#mapping yes = 1, no = 1\n",
    "validate.multiple_lines = validate.multiple_lines.map({'Yes': 1, 'No': 0,\n",
    "                                                 'No phone service':2})\n",
    "\n",
    "# drop columns for which I have a numerical dummy column for\n",
    "drop_columns = ['contract_type', 'payment_type', 'internet_service_type']\n",
    "validate = validate.drop(columns = drop_columns)"
   ]
  },
  {
   "cell_type": "markdown",
   "id": "38fd958f",
   "metadata": {},
   "source": [
    "### Test Dataset"
   ]
  },
  {
   "cell_type": "code",
   "execution_count": 10,
   "id": "86356d38",
   "metadata": {},
   "outputs": [],
   "source": [
    "# mapping gender\n",
    "test.gender = test.gender.map({'Male':1 , 'Female':0})\n",
    "test.gender.head()\n",
    "\n",
    "#mapping yes = 1, no = 1\n",
    "test.multiple_lines = test.multiple_lines.map({'Yes': 1, 'No': 0,\n",
    "                                                 'No phone service':2})\n",
    "\n",
    "# drop columns for which I have a numerical dummy column for\n",
    "drop_columns = ['contract_type', 'payment_type', 'internet_service_type']\n",
    "test = test.drop(columns = drop_columns)"
   ]
  },
  {
   "cell_type": "markdown",
   "id": "4015fd5f",
   "metadata": {},
   "source": [
    "### A lot of the columns look a bit funky with their naming conventions, thus they will be renamed to be quickly accessed and recognizable"
   ]
  },
  {
   "cell_type": "code",
   "execution_count": 11,
   "id": "87ed3b03",
   "metadata": {},
   "outputs": [],
   "source": [
    "train = train.rename(columns={'gender': 'is_male',\n",
    "                              'contract_type_Month-to-month': 'month_to_month_contract',\n",
    "                             'contract_type_One year': 'one_year_contract',\n",
    "                              'ontract_type_Two year': 'two_year_contract', \n",
    "                              'payment_type_Bank transfer (automatic)': 'bank_transfer_pay',\n",
    "                              'payment_type_Credit card (automatic)': 'credit_card_pay', \n",
    "                              'payment_type_Electronic check': 'electronic_check_pay', \n",
    "                              'payment_type_Mailed check': 'mailed_check_pay', \n",
    "                              'internet_service_type_DSL': 'DSL_internet', \n",
    "                              'internet_service_type_Fiber optic': 'fiber_optic_internet', \n",
    "                              'internet_service_type_None': 'no_internet'})"
   ]
  },
  {
   "cell_type": "markdown",
   "id": "10657c86",
   "metadata": {},
   "source": [
    "# Exploring the Data\n",
    "- Taking note of the few touches I will need to make later, let's just move right in into exploring the data to get an overall sense of what's to come."
   ]
  },
  {
   "cell_type": "markdown",
   "id": "b5d3b174",
   "metadata": {},
   "source": [
    "## The Goal :\n",
    "\n",
    "### The goal is to discover features that have the largest impact on the target variable Churn, i.e. provide the most information gain, drive the outcome, and given indepth insight on what direction we can take to reduce it.\n"
   ]
  },
  {
   "cell_type": "markdown",
   "id": "39573d6c",
   "metadata": {},
   "source": [
    "### Questions to look for during exploration : \n",
    "- Is there unexpected services related to churn, and why? \n",
    "- Are those who use mailed checks for payments more or less likely to churn?\n",
    "- Do customers who have dependents more likely to have longer tenure than those who do not? \n",
    "- On average when do month to month customers churn? Is there a significant pattern of churns around a certain amount of tenure? "
   ]
  },
  {
   "cell_type": "code",
   "execution_count": 13,
   "id": "29e77a81",
   "metadata": {},
   "outputs": [
    {
     "data": {
      "text/plain": [
       "0    0.734315\n",
       "1    0.265685\n",
       "Name: churn, dtype: float64"
      ]
     },
     "execution_count": 13,
     "metadata": {},
     "output_type": "execute_result"
    }
   ],
   "source": [
    "# Exploring churn vs telco\n",
    "# when getting value counts, normalize will return a percentage\n",
    "train.churn.value_counts(normalize = True)"
   ]
  },
  {
   "cell_type": "code",
   "execution_count": 14,
   "id": "17509d37",
   "metadata": {},
   "outputs": [
    {
     "data": {
      "text/plain": [
       "0    2891\n",
       "1    1046\n",
       "Name: churn, dtype: int64"
      ]
     },
     "execution_count": 14,
     "metadata": {},
     "output_type": "execute_result"
    }
   ],
   "source": [
    "# realized values\n",
    "train.churn.value_counts()"
   ]
  },
  {
   "cell_type": "code",
   "execution_count": 15,
   "id": "a0454a9a",
   "metadata": {
    "scrolled": false
   },
   "outputs": [
    {
     "data": {
      "image/png": "[encoded data removed]",
      "text/plain": [
       "<Figure size 432x288 with 1 Axes>"
      ]
     },
     "metadata": {
      "needs_background": "light"
     },
     "output_type": "display_data"
    }
   ],
   "source": [
    "has_churned = (train.churn.mean() * 100)\n",
    "\n",
    "percent = \"{:.2f}\".format(has_churned)\n",
    "\n",
    "train.churn.value_counts().sort_index().plot.bar()\n",
    "plt.title(f'Churn rate in Percentage : {percent}%')\n",
    "plt.xlabel('Churned : 0 = No, 1 = Yes')\n",
    "plt.xticks(rotation = 0)\n",
    "plt.show()"
   ]
  },
  {
   "cell_type": "markdown",
   "id": "65439a0d",
   "metadata": {},
   "source": [
    "### Takeaway : \n",
    "-  26.57% of Telco customers have churned.\n",
    "- Now let's figure out what features drive churn."
   ]
  },
  {
   "cell_type": "code",
   "execution_count": 16,
   "id": "0337626f",
   "metadata": {},
   "outputs": [
    {
     "data": {
      "text/plain": [
       "Text(0, 0.5, 'Features')"
      ]
     },
     "execution_count": 16,
     "metadata": {},
     "output_type": "execute_result"
    },
    {
     "data": {
      "image/png": "[encoded data removed]",
      "text/plain": [
       "<Figure size 1080x576 with 1 Axes>"
      ]
     },
     "metadata": {
      "needs_background": "light"
     },
     "output_type": "display_data"
    }
   ],
   "source": [
    "plt.figure(figsize= (15, 8))\n",
    "\n",
    "train.corr()['churn'].sort_values(ascending=False).plot(kind='barh', \n",
    "                                                    color = 'orange')\n",
    "\n",
    "plt.title('Features Correlation to Churn', fontsize = 18)\n",
    "plt.xlabel('Correlation', fontsize = 18)\n",
    "plt.ylabel('Features', fontsize = 18)"
   ]
  },
  {
   "cell_type": "markdown",
   "id": "287c36b6",
   "metadata": {},
   "source": [
    "## Takeaways : \n",
    "- The strongest features with correlations to churn:\n",
    "    - Month-to-month contracts\n",
    "    - Fiber optic internet service types\n",
    "    - Electronic Check Payment Types\n",
    "    - Monthly charges\n",
    "    - And perhaps paperless billing\n",
    "- *While senior citizen is also very much correlated to churn this top five potentially yields the best data.* \n",
    "\n",
    "- Tenure, 2 year contracts, total charges and yearly contracts have a strong negative correlation with churn.\n",
    "- **Sex has no correlation with churn both negative or positive**"
   ]
  },
  {
   "cell_type": "markdown",
   "id": "17a08e7a",
   "metadata": {},
   "source": [
    "### The big questions : \n",
    "- Is there unexpected services related to churn, and why? \n",
    "- Are those who use mailed checks for payments more or less likely to churn?\n",
    "- Are customers who have dependents more likely to have longer tenure than those who do not? \n",
    "- On average when do month to month customers churn? Is there a significant pattern of churns around a certain amount of tenure? "
   ]
  },
  {
   "cell_type": "markdown",
   "id": "df6ad6a8",
   "metadata": {},
   "source": [
    "### First, let's take a look at each feature and how they relate to churn:"
   ]
  },
  {
   "cell_type": "code",
   "execution_count": 17,
   "id": "07b4372f",
   "metadata": {
    "scrolled": false
   },
   "outputs": [
    {
     "data": {
      "image/png": "[encoded data removed]",
      "text/plain": [
       "<Figure size 432x288 with 1 Axes>"
      ]
     },
     "metadata": {},
     "output_type": "display_data"
    },
    {
     "data": {
      "image/png": "[encoded data removed]",
      "text/plain": [
       "<Figure size 432x288 with 1 Axes>"
      ]
     },
     "metadata": {},
     "output_type": "display_data"
    },
    {
     "data": {
      "image/png": "[encoded data removed]",
      "text/plain": [
       "<Figure size 432x288 with 1 Axes>"
      ]
     },
     "metadata": {},
     "output_type": "display_data"
    },
    {
     "data": {
      "image/png": "[encoded data removed]",
      "text/plain": [
       "<Figure size 432x288 with 1 Axes>"
      ]
     },
     "metadata": {},
     "output_type": "display_data"
    },
    {
     "data": {
      "image/png": "[encoded data removed]",
      "text/plain": [
       "<Figure size 432x288 with 1 Axes>"
      ]
     },
     "metadata": {},
     "output_type": "display_data"
    },
    {
     "data": {
      "image/png": "[encoded data removed]",
      "text/plain": [
       "<Figure size 432x288 with 1 Axes>"
      ]
     },
     "metadata": {},
     "output_type": "display_data"
    },
    {
     "data": {
      "image/png": "[encoded data removed]",
      "text/plain": [
       "<Figure size 432x288 with 1 Axes>"
      ]
     },
     "metadata": {},
     "output_type": "display_data"
    },
    {
     "data": {
      "image/png": "[encoded data removed]",
      "text/plain": [
       "<Figure size 432x288 with 1 Axes>"
      ]
     },
     "metadata": {},
     "output_type": "display_data"
    },
    {
     "data": {
      "image/png": "[encoded data removed]",
      "text/plain": [
       "<Figure size 432x288 with 1 Axes>"
      ]
     },
     "metadata": {},
     "output_type": "display_data"
    },
    {
     "data": {
      "image/png": "[encoded data removed]",
      "text/plain": [
       "<Figure size 432x288 with 1 Axes>"
      ]
     },
     "metadata": {},
     "output_type": "display_data"
    },
    {
     "data": {
      "image/png": "[encoded data removed]",
      "text/plain": [
       "<Figure size 432x288 with 1 Axes>"
      ]
     },
     "metadata": {},
     "output_type": "display_data"
    },
    {
     "data": {
      "image/png": "[encoded data removed]",
      "text/plain": [
       "<Figure size 432x288 with 1 Axes>"
      ]
     },
     "metadata": {},
     "output_type": "display_data"
    },
    {
     "data": {
      "image/png": "[encoded data removed]",
      "text/plain": [
       "<Figure size 432x288 with 1 Axes>"
      ]
     },
     "metadata": {},
     "output_type": "display_data"
    },
    {
     "data": {
      "image/png": "[encoded data removed]",
      "text/plain": [
       "<Figure size 432x288 with 1 Axes>"
      ]
     },
     "metadata": {},
     "output_type": "display_data"
    },
    {
     "data": {
      "image/png": "[encoded data removed]",
      "text/plain": [
       "<Figure size 432x288 with 1 Axes>"
      ]
     },
     "metadata": {},
     "output_type": "display_data"
    },
    {
     "data": {
      "image/png": "[encoded data removed]",
      "text/plain": [
       "<Figure size 432x288 with 1 Axes>"
      ]
     },
     "metadata": {},
     "output_type": "display_data"
    }
   ],
   "source": [
    "column = train.columns\n",
    "for col in column:\n",
    "    if col not in ['customer_id', 'monthly_charges', 'tenure', 'total_charges', \n",
    "                   'multiple_lines', 'churn']: \n",
    "        sns.set_theme(style=\"whitegrid\")\n",
    "        ax = sns.countplot(x= train[col], hue=\"churn\",\n",
    "                           data=train)\n",
    "        ax.set(xlabel =None)\n",
    "        ax.set_xticklabels(['No', 'Yes'])\n",
    "        plt.legend(['has not churned', 'has churned'])\n",
    "        plt.title(f'Feature: {col}')\n",
    "        plt.show()"
   ]
  },
  {
   "cell_type": "markdown",
   "id": "898f7bc1",
   "metadata": {},
   "source": [
    "### Takeaways :\n",
    "- Correlation : \n",
    "    - The churn rate on those who are senior citizens is actually rather high, however, there is a very small sample size in comparison to the aggregated count of the entire dataset.\n",
    "    - Paperlees billing seems to have about a 50% churn rate.\n",
    "    - month-to-month contracts lose what looks to be about 75% of customers\n",
    "    - This is the same for electronic checks and fiber optic internet"
   ]
  },
  {
   "cell_type": "markdown",
   "id": "ee3f6ac8",
   "metadata": {},
   "source": [
    "# Question 1:\n",
    "### Unexpected Services related to churn : \n",
    "- Based on the correlation graph, and count plots a major unexpected feature related to churn would be having fiber optic internet. Because of this obeservation, I will take a look at the internet service types."
   ]
  },
  {
   "cell_type": "code",
   "execution_count": 19,
   "id": "a462622d",
   "metadata": {
    "scrolled": false
   },
   "outputs": [
    {
     "data": {
      "image/png": "[encoded data removed]",
      "text/plain": [
       "<Figure size 432x288 with 1 Axes>"
      ]
     },
     "metadata": {},
     "output_type": "display_data"
    },
    {
     "data": {
      "image/png": "[encoded data removed]",
      "text/plain": [
       "<Figure size 432x288 with 1 Axes>"
      ]
     },
     "metadata": {},
     "output_type": "display_data"
    },
    {
     "data": {
      "image/png": "[encoded data removed]",
      "text/plain": [
       "<Figure size 432x288 with 1 Axes>"
      ]
     },
     "metadata": {},
     "output_type": "display_data"
    }
   ],
   "source": [
    "# check internet service types from original telco data\n",
    "\n",
    "internet_types = ['DSL_internet', 'fiber_optic_internet', 'no_internet']\n",
    "\n",
    "for types in internet_types:\n",
    "    sns.set_theme(style=\"whitegrid\")\n",
    "    ax = sns.countplot(x= train[types], hue=\"churn\",\n",
    "                       data=train)\n",
    "    ax.set(xlabel =None)\n",
    "    ax.set_xticklabels(['No', 'Yes'])\n",
    "    plt.legend(['Has not churned', 'Has churned'])\n",
    "    plt.title(f'Service: {types}')\n",
    "    plt.show()"
   ]
  },
  {
   "cell_type": "markdown",
   "id": "0d8a230b",
   "metadata": {},
   "source": [
    "### Hypothesis\n",
    "\n",
    "#### ${H_0}$:  Fiber optic internet is independent of churning. They are not correlated.\n",
    "\n",
    "#### ${H_a}$: Fiber optic internet and churning are dependent on one another and are correlated. \n",
    "\n",
    "I will conduct a chi square test on fiber optic internet and churn."
   ]
  },
  {
   "cell_type": "code",
   "execution_count": 20,
   "id": "093e62ec",
   "metadata": {},
   "outputs": [],
   "source": [
    "# set alpha\n",
    "alpha = .05"
   ]
  },
  {
   "cell_type": "code",
   "execution_count": 21,
   "id": "07bad042",
   "metadata": {},
   "outputs": [],
   "source": [
    "variable = train.fiber_optic_internet\n",
    "target = train.churn\n",
    "\n",
    "observed = pd.crosstab(variable, target)"
   ]
  },
  {
   "cell_type": "code",
   "execution_count": 22,
   "id": "97a5a6e5",
   "metadata": {},
   "outputs": [
    {
     "name": "stdout",
     "output_type": "stream",
     "text": [
      "I reject the null hypothesis that the variables are independent of one another. There is a correlation between them.\n"
     ]
    }
   ],
   "source": [
    "chi2, p, degf, expected = stats.chi2_contingency(observed)\n",
    "\n",
    "# test against the null and alternative hypothesis:\n",
    "if p < alpha:\n",
    "    print('I reject the null hypothesis that the variables are independent of one another. There is a correlation between them.')\n",
    "else:\n",
    "    print('I fail to reject the null hypothesis that the variables are independent of one another. There is no correlation between them')\n",
    "    "
   ]
  },
  {
   "cell_type": "markdown",
   "id": "6e03f4ec",
   "metadata": {},
   "source": [
    "### I will also take a look at the customers in the multiple phone lines feature"
   ]
  },
  {
   "cell_type": "code",
   "execution_count": 23,
   "id": "9a83bc39",
   "metadata": {
    "scrolled": false
   },
   "outputs": [
    {
     "data": {
      "text/plain": [
       "Text(0, 0.5, 'Number of Customers')"
      ]
     },
     "execution_count": 23,
     "metadata": {},
     "output_type": "execute_result"
    },
    {
     "data": {
      "image/png": "[encoded data removed]",
      "text/plain": [
       "<Figure size 720x576 with 1 Axes>"
      ]
     },
     "metadata": {},
     "output_type": "display_data"
    }
   ],
   "source": [
    "# Looking at the count of customers who have churn vs not churn within the different contract types (using the train data)\n",
    "\n",
    "plt.figure(figsize = (10, 8))\n",
    "ax = sns.countplot(x='multiple_lines', hue = 'churn', data = train)\n",
    "plt.title('Has Multiple Lines', fontsize = 20)\n",
    "plt.legend(labels = ['Has Not Churned', 'Has Churned'], fontsize = 14)\n",
    "ax.set(xlabel = None)\n",
    "ax.set_xticklabels(['No', 'Yes', 'No Phone Service'])\n",
    "plt.ylabel('Number of Customers', fontsize = 14)"
   ]
  },
  {
   "cell_type": "markdown",
   "id": "2faec7ab",
   "metadata": {},
   "source": [
    "## Takeaways:\n",
    "- DSL internet has the largest amount of customers by a short margin, with about 25% churn. \n",
    "- Fiber optic internet has a 75% churn rate and are more likely to churn. \n",
    "- Those with no internet are less likely to churn. \n",
    "- Having multiple lines or not doesn't seem to have a strong correlaton to churn."
   ]
  },
  {
   "cell_type": "markdown",
   "id": "a5684489",
   "metadata": {},
   "source": [
    "# Question 2:"
   ]
  },
  {
   "cell_type": "markdown",
   "id": "baa2a8ca",
   "metadata": {},
   "source": [
    "### Is payment type related to churn?"
   ]
  },
  {
   "cell_type": "markdown",
   "id": "66ebb632",
   "metadata": {},
   "source": [
    "#### To find this out, let's run a countplot on all payment types: "
   ]
  },
  {
   "cell_type": "code",
   "execution_count": 24,
   "id": "e1e8f447",
   "metadata": {
    "scrolled": false
   },
   "outputs": [
    {
     "data": {
      "image/png": "[encoded data removed]",
      "text/plain": [
       "<Figure size 432x288 with 1 Axes>"
      ]
     },
     "metadata": {},
     "output_type": "display_data"
    },
    {
     "data": {
      "image/png": "[encoded data removed]",
      "text/plain": [
       "<Figure size 432x288 with 1 Axes>"
      ]
     },
     "metadata": {},
     "output_type": "display_data"
    },
    {
     "data": {
      "image/png": "[encoded data removed]",
      "text/plain": [
       "<Figure size 432x288 with 1 Axes>"
      ]
     },
     "metadata": {},
     "output_type": "display_data"
    },
    {
     "data": {
      "image/png": "[encoded data removed]",
      "text/plain": [
       "<Figure size 432x288 with 1 Axes>"
      ]
     },
     "metadata": {},
     "output_type": "display_data"
    }
   ],
   "source": [
    "payment_types = ['bank_transfer_pay', 'credit_card_pay',\n",
    "                 'electronic_check_pay', 'mailed_check_pay']\n",
    "\n",
    "for types in payment_types:\n",
    "    sns.set_theme(style=\"whitegrid\")\n",
    "    ax = sns.countplot(x= train[types], hue=\"churn\",\n",
    "                       data=train)\n",
    "    ax.set(xlabel =None)\n",
    "    ax.set_xticklabels(['No', 'Yes'])\n",
    "    plt.title(f'Service: {types}')\n",
    "    plt.show()"
   ]
  },
  {
   "cell_type": "markdown",
   "id": "add51310",
   "metadata": {},
   "source": [
    "### Hypothesis\n",
    "\n",
    "#### ${H_0}$:  Paying by Electronic Check is independent of churning. They are not correlated.\n",
    "\n",
    "#### ${H_a}$: Paying by Electronic Check and churning are dependent on one another and are correlated. \n",
    "\n",
    "I will conduct a chi square test on Electronic Check Pay and churn."
   ]
  },
  {
   "cell_type": "code",
   "execution_count": 25,
   "id": "50c18842",
   "metadata": {},
   "outputs": [
    {
     "name": "stdout",
     "output_type": "stream",
     "text": [
      "I reject the null hypothesis that the variables are independent of one another. There is a correlation between them.\n"
     ]
    }
   ],
   "source": [
    "variable2 = train.electronic_check_pay\n",
    "\n",
    "#re-used churn target\n",
    "observed = pd.crosstab(variable, target)\n",
    "\n",
    "chi2, p, degf, expected = stats.chi2_contingency(observed)\n",
    "\n",
    "# test against the null and alternative hypothesis:\n",
    "if p < alpha:\n",
    "    print('I reject the null hypothesis that the variables are independent of one another. There is a correlation between them.')\n",
    "else:\n",
    "    print('I fail to reject the null hypothesis that the variables are independent of one another. There is no correlation between them')"
   ]
  },
  {
   "cell_type": "markdown",
   "id": "76421530",
   "metadata": {},
   "source": [
    "## Takeaways: \n",
    "- Bank transfer and mailed check pay nearly the same amount of customers and the same amount of churn. \n",
    "- Mailed Check Pay are less likely to churn\n",
    "- **Nearly all of the customers in electronic check pay have churned.**\n",
    "- Credit card pay is the most popular service."
   ]
  },
  {
   "cell_type": "markdown",
   "id": "961b73a0",
   "metadata": {},
   "source": [
    "## Question 3 : "
   ]
  },
  {
   "cell_type": "markdown",
   "id": "2fae4be2",
   "metadata": {},
   "source": [
    "### Are customers who have dependents more likely to have longer tenure than those who do not?"
   ]
  },
  {
   "cell_type": "code",
   "execution_count": 56,
   "id": "7445263e",
   "metadata": {
    "scrolled": true
   },
   "outputs": [
    {
     "data": {
      "image/png": "[encoded data removed]",
      "text/plain": [
       "<Figure size 405.725x360 with 1 Axes>"
      ]
     },
     "metadata": {},
     "output_type": "display_data"
    }
   ],
   "source": [
    "ax3 = sns.catplot(x= 'dependents', y = 'tenure', hue=\"churn\",\n",
    "                       data=train, kind='bar')\n",
    "ax.set(xlabel =None)\n",
    "plt.title(f'Has Dependents')\n",
    "ax3.set_xticklabels(['No', 'Yes'])\n",
    "ax3.set(xlabel =None)\n",
    "plt.show()"
   ]
  },
  {
   "cell_type": "markdown",
   "id": "2c2bbba6",
   "metadata": {},
   "source": [
    "### Hypothesis\n",
    "\n",
    "#### ${H_0}$:  Having Dependents is independent of having higher tenure. They are not correlated.\n",
    "\n",
    "#### ${H_a}$: Having Dependents and higher tenure are dependent on one another and are correlated. \n",
    "\n",
    "I will conduct a 1 sample T-Test on Dependents and Tenure"
   ]
  },
  {
   "cell_type": "code",
   "execution_count": 27,
   "id": "b7c89a1d",
   "metadata": {},
   "outputs": [
    {
     "name": "stdout",
     "output_type": "stream",
     "text": [
      "I reject the null hypothesis that the variables are independent of one another. There is a correlation between them.\n"
     ]
    }
   ],
   "source": [
    "dependents = train[train.dependents == 1].tenure\n",
    "tenure_mean = train.tenure.mean()\n",
    "\n",
    "t, p = stats.ttest_1samp(dependents, tenure_mean)\n",
    "\n",
    "if p/2 < alpha:\n",
    "    print('I reject the null hypothesis that the variables are independent of one another. There is a correlation between them.')\n",
    "else:\n",
    "    print('I fail to reject the null hypothesis that the variables are independent of one another. There is no correlation between them')\n",
    "    "
   ]
  },
  {
   "cell_type": "markdown",
   "id": "5bca104c",
   "metadata": {},
   "source": [
    "## Takeaways:\n",
    "- Customers both who have churned and who are still within services who do not have dependents have less tenure than those who do. "
   ]
  },
  {
   "cell_type": "markdown",
   "id": "37170a4f",
   "metadata": {},
   "source": [
    "## Question 4 : "
   ]
  },
  {
   "cell_type": "markdown",
   "id": "8c9dfcce",
   "metadata": {},
   "source": [
    "### On average when do month to month customers churn?"
   ]
  },
  {
   "cell_type": "code",
   "execution_count": 28,
   "id": "51ffcfdb",
   "metadata": {
    "scrolled": true
   },
   "outputs": [],
   "source": [
    "# get all month to month contract holders\n",
    "m2m = train[train.month_to_month_contract == 1]\n",
    "\n",
    "# get the month to month contract holder who have churned\n",
    "m2m_churn = m2m[m2m.churn == 1]\n",
    "\n",
    "# get the average tenure of the month to month contract holders\n",
    "# who have churned\n",
    "\n",
    "m2m_churned_avg_tenure = m2m_churn.tenure.mean()"
   ]
  },
  {
   "cell_type": "code",
   "execution_count": 29,
   "id": "15afa1f5",
   "metadata": {
    "scrolled": false
   },
   "outputs": [
    {
     "data": {
      "text/plain": [
       "<matplotlib.lines.Line2D at 0x7fcc78d8ea60>"
      ]
     },
     "execution_count": 29,
     "metadata": {},
     "output_type": "execute_result"
    },
    {
     "data": {
      "image/png": "[encoded data removed]",
      "text/plain": [
       "<Figure size 720x720 with 1 Axes>"
      ]
     },
     "metadata": {},
     "output_type": "display_data"
    }
   ],
   "source": [
    "sns.catplot(x='churn', y = 'tenure', kind='box', size=10,\n",
    "           data = train[train.churn == 1])\n",
    "\n",
    "plt.title('The Average Churn of Month to Month Telco Customers')\n",
    "\n",
    "plt.xlabel('Churned', fontsize = 14)\n",
    "\n",
    "plt.ylabel('Months with Telco Services')\n",
    "\n",
    "plt.axhline(y= m2m_churned_avg_tenure,\n",
    "            linestyle = '--', color = 'red')"
   ]
  },
  {
   "cell_type": "code",
   "execution_count": 30,
   "id": "3e12ca24",
   "metadata": {},
   "outputs": [
    {
     "data": {
      "text/plain": [
       "Text(0, 0.5, 'Customer Count')"
      ]
     },
     "execution_count": 30,
     "metadata": {},
     "output_type": "execute_result"
    },
    {
     "data": {
      "image/png": "[encoded data removed]",
      "text/plain": [
       "<Figure size 720x576 with 1 Axes>"
      ]
     },
     "metadata": {},
     "output_type": "display_data"
    }
   ],
   "source": [
    "plt.figure(figsize=(10,8))\n",
    "\n",
    "sns.histplot(data=train, x='tenure', hue='churn',\n",
    "             palette = 'flare')\n",
    "\n",
    "plt.legend(['No', 'Yes'])\n",
    "plt.xlabel('Tenure in Months', fontsize=13)\n",
    "plt.ylabel('Customer Count', fontsize = 13)\n"
   ]
  },
  {
   "cell_type": "markdown",
   "id": "9e578bce",
   "metadata": {},
   "source": [
    "## Takeaways:\n",
    "- The average Tenure of month to month customers is 14 months.\n",
    "- However, a majority of those cutomers, churn before their first 10 months with service."
   ]
  },
  {
   "cell_type": "markdown",
   "id": "ad6c247a",
   "metadata": {},
   "source": [
    "# Modeling"
   ]
  },
  {
   "cell_type": "code",
   "execution_count": 31,
   "id": "a8350f6a",
   "metadata": {},
   "outputs": [
    {
     "name": "stdout",
     "output_type": "stream",
     "text": [
      "Our baseline accuracy is: 0.7343154686309372\n"
     ]
    }
   ],
   "source": [
    "# calculate the baseline for the train dataset\n",
    "\n",
    "baseline = (train.churn == 0).mean()\n",
    "print(f'Our baseline accuracy is: {baseline}')"
   ]
  },
  {
   "cell_type": "markdown",
   "id": "b3fe2490",
   "metadata": {},
   "source": [
    "### This baseline of 73% is the accuracy of the amount of customers that we will retain. \n",
    "\n",
    "### Our goal is to create a model that will return over 73% retention in customers."
   ]
  },
  {
   "cell_type": "code",
   "execution_count": 32,
   "id": "ed9ce3c5",
   "metadata": {
    "scrolled": true
   },
   "outputs": [],
   "source": [
    "drop_columns = ['customer_id', 'churn', 'multiple_lines']\n",
    "\n",
    "X_train = train.drop(columns = drop_columns)\n",
    "y_train = train.churn\n",
    "\n",
    "X_validate = validate.drop(columns = drop_columns)\n",
    "y_validate = validate.churn\n",
    "\n",
    "X_test = test.drop(columns = drop_columns)\n",
    "y_test = test.churn"
   ]
  },
  {
   "cell_type": "code",
   "execution_count": 33,
   "id": "657ab517",
   "metadata": {},
   "outputs": [
    {
     "data": {
      "text/plain": [
       "(3937, 19)"
      ]
     },
     "execution_count": 33,
     "metadata": {},
     "output_type": "execute_result"
    }
   ],
   "source": [
    "X_train.shape"
   ]
  },
  {
   "cell_type": "code",
   "execution_count": 34,
   "id": "d8418ca3",
   "metadata": {
    "scrolled": true
   },
   "outputs": [
    {
     "data": {
      "text/plain": [
       "(1688, 19)"
      ]
     },
     "execution_count": 34,
     "metadata": {},
     "output_type": "execute_result"
    }
   ],
   "source": [
    "X_validate.shape"
   ]
  },
  {
   "cell_type": "code",
   "execution_count": 35,
   "id": "aa57f024",
   "metadata": {
    "scrolled": true
   },
   "outputs": [
    {
     "data": {
      "text/plain": [
       "(1407, 19)"
      ]
     },
     "execution_count": 35,
     "metadata": {},
     "output_type": "execute_result"
    }
   ],
   "source": [
    "X_test.shape"
   ]
  },
  {
   "cell_type": "markdown",
   "id": "040c4c64",
   "metadata": {},
   "source": [
    "### Random Forest on Train and Validate"
   ]
  },
  {
   "cell_type": "code",
   "execution_count": 36,
   "id": "78ea1c6c",
   "metadata": {
    "scrolled": true
   },
   "outputs": [
    {
     "data": {
      "text/html": [
       "<div>\n",
       "<style scoped>\n",
       "    .dataframe tbody tr th:only-of-type {\n",
       "        vertical-align: middle;\n",
       "    }\n",
       "\n",
       "    .dataframe tbody tr th {\n",
       "        vertical-align: top;\n",
       "    }\n",
       "\n",
       "    .dataframe thead th {\n",
       "        text-align: right;\n",
       "    }\n",
       "</style>\n",
       "<table border=\"1\" class=\"dataframe\">\n",
       "  <thead>\n",
       "    <tr style=\"text-align: right;\">\n",
       "      <th></th>\n",
       "      <th>min_samples_per_leaf</th>\n",
       "      <th>max_depth</th>\n",
       "      <th>train_accuracy</th>\n",
       "      <th>validate_accuracy</th>\n",
       "      <th>difference</th>\n",
       "    </tr>\n",
       "  </thead>\n",
       "  <tbody>\n",
       "    <tr>\n",
       "      <th>0</th>\n",
       "      <td>1</td>\n",
       "      <td>11</td>\n",
       "      <td>0.919482</td>\n",
       "      <td>0.780213</td>\n",
       "      <td>0.139269</td>\n",
       "    </tr>\n",
       "    <tr>\n",
       "      <th>1</th>\n",
       "      <td>2</td>\n",
       "      <td>10</td>\n",
       "      <td>0.868936</td>\n",
       "      <td>0.790877</td>\n",
       "      <td>0.078059</td>\n",
       "    </tr>\n",
       "    <tr>\n",
       "      <th>2</th>\n",
       "      <td>3</td>\n",
       "      <td>9</td>\n",
       "      <td>0.849632</td>\n",
       "      <td>0.781398</td>\n",
       "      <td>0.068234</td>\n",
       "    </tr>\n",
       "    <tr>\n",
       "      <th>3</th>\n",
       "      <td>4</td>\n",
       "      <td>8</td>\n",
       "      <td>0.827534</td>\n",
       "      <td>0.783175</td>\n",
       "      <td>0.044358</td>\n",
       "    </tr>\n",
       "    <tr>\n",
       "      <th>4</th>\n",
       "      <td>5</td>\n",
       "      <td>7</td>\n",
       "      <td>0.822200</td>\n",
       "      <td>0.778436</td>\n",
       "      <td>0.043764</td>\n",
       "    </tr>\n",
       "    <tr>\n",
       "      <th>5</th>\n",
       "      <td>6</td>\n",
       "      <td>6</td>\n",
       "      <td>0.816612</td>\n",
       "      <td>0.778436</td>\n",
       "      <td>0.038176</td>\n",
       "    </tr>\n",
       "    <tr>\n",
       "      <th>6</th>\n",
       "      <td>7</td>\n",
       "      <td>5</td>\n",
       "      <td>0.808484</td>\n",
       "      <td>0.785545</td>\n",
       "      <td>0.022939</td>\n",
       "    </tr>\n",
       "    <tr>\n",
       "      <th>7</th>\n",
       "      <td>8</td>\n",
       "      <td>4</td>\n",
       "      <td>0.800356</td>\n",
       "      <td>0.781991</td>\n",
       "      <td>0.018365</td>\n",
       "    </tr>\n",
       "    <tr>\n",
       "      <th>8</th>\n",
       "      <td>9</td>\n",
       "      <td>3</td>\n",
       "      <td>0.792482</td>\n",
       "      <td>0.776659</td>\n",
       "      <td>0.015823</td>\n",
       "    </tr>\n",
       "    <tr>\n",
       "      <th>9</th>\n",
       "      <td>10</td>\n",
       "      <td>2</td>\n",
       "      <td>0.764542</td>\n",
       "      <td>0.751777</td>\n",
       "      <td>0.012764</td>\n",
       "    </tr>\n",
       "    <tr>\n",
       "      <th>10</th>\n",
       "      <td>11</td>\n",
       "      <td>1</td>\n",
       "      <td>0.734315</td>\n",
       "      <td>0.734005</td>\n",
       "      <td>0.000311</td>\n",
       "    </tr>\n",
       "  </tbody>\n",
       "</table>\n",
       "</div>"
      ],
      "text/plain": [
       "    min_samples_per_leaf  max_depth  train_accuracy  validate_accuracy  \\\n",
       "0                      1         11        0.919482           0.780213   \n",
       "1                      2         10        0.868936           0.790877   \n",
       "2                      3          9        0.849632           0.781398   \n",
       "3                      4          8        0.827534           0.783175   \n",
       "4                      5          7        0.822200           0.778436   \n",
       "5                      6          6        0.816612           0.778436   \n",
       "6                      7          5        0.808484           0.785545   \n",
       "7                      8          4        0.800356           0.781991   \n",
       "8                      9          3        0.792482           0.776659   \n",
       "9                     10          2        0.764542           0.751777   \n",
       "10                    11          1        0.734315           0.734005   \n",
       "\n",
       "    difference  \n",
       "0     0.139269  \n",
       "1     0.078059  \n",
       "2     0.068234  \n",
       "3     0.044358  \n",
       "4     0.043764  \n",
       "5     0.038176  \n",
       "6     0.022939  \n",
       "7     0.018365  \n",
       "8     0.015823  \n",
       "9     0.012764  \n",
       "10    0.000311  "
      ]
     },
     "execution_count": 36,
     "metadata": {},
     "output_type": "execute_result"
    }
   ],
   "source": [
    "metrics = []\n",
    "max_depth = 12\n",
    "\n",
    "for i in range(1, max_depth):\n",
    "    # Make the model\n",
    "    depth = max_depth - i\n",
    "    n_samples = i\n",
    "    forest = RandomForestClassifier(max_depth=depth, \n",
    "                                    min_samples_leaf=n_samples, \n",
    "                                    random_state=123)\n",
    "\n",
    "    # Fit the model (on train and only train)\n",
    "    forest = forest.fit(X_train, y_train)\n",
    "\n",
    "    # Use the model\n",
    "    # We'll evaluate the model's performance on train, first\n",
    "    in_sample_accuracy = forest.score(X_train, y_train)\n",
    "    \n",
    "    out_of_sample_accuracy = forest.score(X_validate, y_validate)\n",
    "\n",
    "    output = {\n",
    "        \"min_samples_per_leaf\": n_samples,\n",
    "        \"max_depth\": depth,\n",
    "        \"train_accuracy\": in_sample_accuracy,\n",
    "        \"validate_accuracy\": out_of_sample_accuracy\n",
    "    }\n",
    "    \n",
    "    metrics.append(output)\n",
    "    \n",
    "df1 = pd.DataFrame(metrics)\n",
    "df1[\"difference\"] = df1.train_accuracy - df1.validate_accuracy\n",
    "df1"
   ]
  },
  {
   "cell_type": "code",
   "execution_count": 37,
   "id": "0871f755",
   "metadata": {
    "scrolled": false
   },
   "outputs": [
    {
     "name": "stdout",
     "output_type": "stream",
     "text": [
      "Tree with max depth of 2\n",
      "                     0            1  accuracy    macro avg  weighted avg\n",
      "precision     0.762286     0.808290  0.764542     0.785288      0.774509\n",
      "recall        0.987202     0.149140  0.764542     0.568171      0.764542\n",
      "f1-score      0.860286     0.251816  0.764542     0.556051      0.698625\n",
      "support    2891.000000  1046.000000  0.764542  3937.000000   3937.000000\n",
      "\n",
      "Tree with max depth of 3\n",
      "                     0            1  accuracy    macro avg  weighted avg\n",
      "precision     0.800812     0.735656  0.792736     0.768234      0.783501\n",
      "recall        0.955379     0.343212  0.792736     0.649295      0.792736\n",
      "f1-score      0.871293     0.468057  0.792736     0.669675      0.764160\n",
      "support    2891.000000  1046.000000  0.792736  3937.000000   3937.000000\n",
      "\n",
      "Tree with max depth of 4\n",
      "                     0            1  accuracy    macro avg  weighted avg\n",
      "precision     0.813489     0.718430   0.79934     0.765959      0.788233\n",
      "recall        0.942926     0.402486   0.79934     0.672706      0.799340\n",
      "f1-score      0.873438     0.515931   0.79934     0.694685      0.778454\n",
      "support    2891.000000  1046.000000   0.79934  3937.000000   3937.000000\n",
      "\n",
      "Tree with max depth of 5\n",
      "                     0            1  accuracy    macro avg  weighted avg\n",
      "precision     0.830346     0.708987  0.808738     0.769667      0.798103\n",
      "recall        0.929436     0.475143  0.808738     0.702290      0.808738\n",
      "f1-score      0.877101     0.568975  0.808738     0.723038      0.795237\n",
      "support    2891.000000  1046.000000  0.808738  3937.000000   3937.000000\n",
      "\n",
      "Tree with max depth of 6\n",
      "                     0            1  accuracy    macro avg  weighted avg\n",
      "precision     0.837500     0.713704  0.814326     0.775602      0.804609\n",
      "recall        0.927015     0.502868  0.814326     0.714941      0.814326\n",
      "f1-score      0.879987     0.590017  0.814326     0.735002      0.802946\n",
      "support    2891.000000  1046.000000  0.814326  3937.000000   3937.000000\n",
      "\n",
      "Tree with max depth of 7\n",
      "                     0            1  accuracy    macro avg  weighted avg\n",
      "precision     0.852291     0.716912  0.824232     0.784601      0.816323\n",
      "recall        0.920097     0.559273  0.824232     0.739685      0.824232\n",
      "f1-score      0.884897     0.628357  0.824232     0.756627      0.816738\n",
      "support    2891.000000  1046.000000  0.824232  3937.000000   3937.000000\n",
      "\n",
      "Tree with max depth of 8\n",
      "                     0            1  accuracy    macro avg  weighted avg\n",
      "precision     0.866040     0.741218  0.838964     0.803629      0.832876\n",
      "recall        0.923556     0.605163  0.838964     0.764359      0.838964\n",
      "f1-score      0.893873     0.666316  0.838964     0.780095      0.833415\n",
      "support    2891.000000  1046.000000  0.838964  3937.000000   3937.000000\n",
      "\n",
      "Tree with max depth of 9\n",
      "                     0            1  accuracy    macro avg  weighted avg\n",
      "precision     0.887144     0.796591  0.866904     0.841868      0.863086\n",
      "recall        0.938084     0.670172  0.866904     0.804128      0.866904\n",
      "f1-score      0.911903     0.727934  0.866904     0.819918      0.863025\n",
      "support    2891.000000  1046.000000  0.866904  3937.000000   3937.000000\n",
      "\n",
      "Tree with max depth of 10\n",
      "                     0            1  accuracy    macro avg  weighted avg\n",
      "precision     0.906003     0.840884  0.891034     0.873443      0.888702\n",
      "recall        0.950190     0.727533  0.891034     0.838862      0.891034\n",
      "f1-score      0.927570     0.780113  0.891034     0.853842      0.888393\n",
      "support    2891.000000  1046.000000  0.891034  3937.000000   3937.000000\n",
      "\n"
     ]
    }
   ],
   "source": [
    "for i in range(2, 11):\n",
    "    # Make the model\n",
    "    forest = RandomForestClassifier(max_depth=i, random_state=123)\n",
    "\n",
    "    # Fit the model (on train and only train)\n",
    "    forest = forest.fit(X_train, y_train)\n",
    "\n",
    "    # Use the model\n",
    "    # We'll evaluate the model's performance on train, first\n",
    "    y_predictions = forest.predict(X_train)\n",
    "\n",
    "    # Produce the classification report on the actual y values and this model's predicted y values\n",
    "    report = classification_report(y_train, y_predictions, output_dict=True)\n",
    "    print(f\"Tree with max depth of {i}\")\n",
    "    print(pd.DataFrame(report))\n",
    "    print()"
   ]
  },
  {
   "cell_type": "code",
   "execution_count": 38,
   "id": "aabb334b",
   "metadata": {
    "scrolled": true
   },
   "outputs": [
    {
     "data": {
      "text/html": [
       "<div>\n",
       "<style scoped>\n",
       "    .dataframe tbody tr th:only-of-type {\n",
       "        vertical-align: middle;\n",
       "    }\n",
       "\n",
       "    .dataframe tbody tr th {\n",
       "        vertical-align: top;\n",
       "    }\n",
       "\n",
       "    .dataframe thead th {\n",
       "        text-align: right;\n",
       "    }\n",
       "</style>\n",
       "<table border=\"1\" class=\"dataframe\">\n",
       "  <thead>\n",
       "    <tr style=\"text-align: right;\">\n",
       "      <th></th>\n",
       "      <th>min_samples_per_leaf</th>\n",
       "      <th>max_depth</th>\n",
       "      <th>train_accuracy</th>\n",
       "      <th>validate_accuracy</th>\n",
       "      <th>difference</th>\n",
       "    </tr>\n",
       "  </thead>\n",
       "  <tbody>\n",
       "    <tr>\n",
       "      <th>0</th>\n",
       "      <td>1</td>\n",
       "      <td>11</td>\n",
       "      <td>0.919482</td>\n",
       "      <td>0.780213</td>\n",
       "      <td>0.139269</td>\n",
       "    </tr>\n",
       "  </tbody>\n",
       "</table>\n",
       "</div>"
      ],
      "text/plain": [
       "   min_samples_per_leaf  max_depth  train_accuracy  validate_accuracy  \\\n",
       "0                     1         11        0.919482           0.780213   \n",
       "\n",
       "   difference  \n",
       "0    0.139269  "
      ]
     },
     "execution_count": 38,
     "metadata": {},
     "output_type": "execute_result"
    }
   ],
   "source": [
    "df1[df1.difference == df1.difference.max()]"
   ]
  },
  {
   "cell_type": "markdown",
   "id": "7ef45d39",
   "metadata": {},
   "source": [
    "### Takeaways: "
   ]
  },
  {
   "cell_type": "markdown",
   "id": "677abca9",
   "metadata": {},
   "source": [
    "### KNN on Train and Validate"
   ]
  },
  {
   "cell_type": "code",
   "execution_count": 39,
   "id": "cf84267c",
   "metadata": {
    "scrolled": true
   },
   "outputs": [
    {
     "data": {
      "text/html": [
       "<div>\n",
       "<style scoped>\n",
       "    .dataframe tbody tr th:only-of-type {\n",
       "        vertical-align: middle;\n",
       "    }\n",
       "\n",
       "    .dataframe tbody tr th {\n",
       "        vertical-align: top;\n",
       "    }\n",
       "\n",
       "    .dataframe thead th {\n",
       "        text-align: right;\n",
       "    }\n",
       "</style>\n",
       "<table border=\"1\" class=\"dataframe\">\n",
       "  <thead>\n",
       "    <tr style=\"text-align: right;\">\n",
       "      <th></th>\n",
       "      <th>k</th>\n",
       "      <th>train_accuracy</th>\n",
       "      <th>validate_accuracy</th>\n",
       "      <th>difference</th>\n",
       "    </tr>\n",
       "  </thead>\n",
       "  <tbody>\n",
       "    <tr>\n",
       "      <th>0</th>\n",
       "      <td>1</td>\n",
       "      <td>0.997714</td>\n",
       "      <td>0.704384</td>\n",
       "      <td>0.293330</td>\n",
       "    </tr>\n",
       "    <tr>\n",
       "      <th>1</th>\n",
       "      <td>2</td>\n",
       "      <td>0.860554</td>\n",
       "      <td>0.749408</td>\n",
       "      <td>0.111146</td>\n",
       "    </tr>\n",
       "    <tr>\n",
       "      <th>2</th>\n",
       "      <td>3</td>\n",
       "      <td>0.857760</td>\n",
       "      <td>0.742299</td>\n",
       "      <td>0.115461</td>\n",
       "    </tr>\n",
       "    <tr>\n",
       "      <th>3</th>\n",
       "      <td>4</td>\n",
       "      <td>0.833376</td>\n",
       "      <td>0.765995</td>\n",
       "      <td>0.067380</td>\n",
       "    </tr>\n",
       "    <tr>\n",
       "      <th>4</th>\n",
       "      <td>5</td>\n",
       "      <td>0.831598</td>\n",
       "      <td>0.757701</td>\n",
       "      <td>0.073896</td>\n",
       "    </tr>\n",
       "    <tr>\n",
       "      <th>5</th>\n",
       "      <td>6</td>\n",
       "      <td>0.819914</td>\n",
       "      <td>0.768957</td>\n",
       "      <td>0.050956</td>\n",
       "    </tr>\n",
       "    <tr>\n",
       "      <th>6</th>\n",
       "      <td>7</td>\n",
       "      <td>0.817882</td>\n",
       "      <td>0.772512</td>\n",
       "      <td>0.045370</td>\n",
       "    </tr>\n",
       "    <tr>\n",
       "      <th>7</th>\n",
       "      <td>8</td>\n",
       "      <td>0.813056</td>\n",
       "      <td>0.780806</td>\n",
       "      <td>0.032250</td>\n",
       "    </tr>\n",
       "    <tr>\n",
       "      <th>8</th>\n",
       "      <td>9</td>\n",
       "      <td>0.815342</td>\n",
       "      <td>0.776066</td>\n",
       "      <td>0.039275</td>\n",
       "    </tr>\n",
       "    <tr>\n",
       "      <th>9</th>\n",
       "      <td>10</td>\n",
       "      <td>0.810008</td>\n",
       "      <td>0.771327</td>\n",
       "      <td>0.038681</td>\n",
       "    </tr>\n",
       "  </tbody>\n",
       "</table>\n",
       "</div>"
      ],
      "text/plain": [
       "    k  train_accuracy  validate_accuracy  difference\n",
       "0   1        0.997714           0.704384    0.293330\n",
       "1   2        0.860554           0.749408    0.111146\n",
       "2   3        0.857760           0.742299    0.115461\n",
       "3   4        0.833376           0.765995    0.067380\n",
       "4   5        0.831598           0.757701    0.073896\n",
       "5   6        0.819914           0.768957    0.050956\n",
       "6   7        0.817882           0.772512    0.045370\n",
       "7   8        0.813056           0.780806    0.032250\n",
       "8   9        0.815342           0.776066    0.039275\n",
       "9  10        0.810008           0.771327    0.038681"
      ]
     },
     "execution_count": 39,
     "metadata": {},
     "output_type": "execute_result"
    }
   ],
   "source": [
    "# Evaluate KNearest Neighbors models on train & validate set by looping through different values for k hyperparameter\n",
    "\n",
    "# create empty list for which to append scores from each loop\n",
    "scores = []\n",
    "k_range = range (1,11)\n",
    "# create loop for range 1-10\n",
    "for k in k_range:\n",
    "            \n",
    "    # define the model setting hyperparameters to values for current loop\n",
    "    knn = KNeighborsClassifier(n_neighbors=k)\n",
    "    \n",
    "    # fit the model on train\n",
    "    knn.fit(X_train, y_train)\n",
    "    \n",
    "    # use the model and evaluate performance on train\n",
    "    train_accuracy = knn.score(X_train, y_train)\n",
    "    # use the model and evaluate performance on validate\n",
    "    validate_accuracy = knn.score(X_validate, y_validate)\n",
    "    \n",
    "    # create output of current loop's hyperparameters and accuracy to append to metrics\n",
    "    output = {\n",
    "        \"k\": k,\n",
    "        \"train_accuracy\": train_accuracy,\n",
    "        \"validate_accuracy\": validate_accuracy\n",
    "    }\n",
    "    \n",
    "    scores.append(output)\n",
    "\n",
    "# convert scores list to a dataframe for easy reading\n",
    "df2 = pd.DataFrame(scores)\n",
    "# add column to assess the difference between train & validate accuracy\n",
    "df2['difference'] = df2.train_accuracy - df2.validate_accuracy\n",
    "df2"
   ]
  },
  {
   "cell_type": "code",
   "execution_count": 40,
   "id": "f5154f94",
   "metadata": {},
   "outputs": [
    {
     "data": {
      "text/html": [
       "<div>\n",
       "<style scoped>\n",
       "    .dataframe tbody tr th:only-of-type {\n",
       "        vertical-align: middle;\n",
       "    }\n",
       "\n",
       "    .dataframe tbody tr th {\n",
       "        vertical-align: top;\n",
       "    }\n",
       "\n",
       "    .dataframe thead th {\n",
       "        text-align: right;\n",
       "    }\n",
       "</style>\n",
       "<table border=\"1\" class=\"dataframe\">\n",
       "  <thead>\n",
       "    <tr style=\"text-align: right;\">\n",
       "      <th></th>\n",
       "      <th>k</th>\n",
       "      <th>train_accuracy</th>\n",
       "      <th>validate_accuracy</th>\n",
       "      <th>difference</th>\n",
       "    </tr>\n",
       "  </thead>\n",
       "  <tbody>\n",
       "    <tr>\n",
       "      <th>7</th>\n",
       "      <td>8</td>\n",
       "      <td>0.813056</td>\n",
       "      <td>0.780806</td>\n",
       "      <td>0.03225</td>\n",
       "    </tr>\n",
       "  </tbody>\n",
       "</table>\n",
       "</div>"
      ],
      "text/plain": [
       "   k  train_accuracy  validate_accuracy  difference\n",
       "7  8        0.813056           0.780806     0.03225"
      ]
     },
     "execution_count": 40,
     "metadata": {},
     "output_type": "execute_result"
    }
   ],
   "source": [
    "df2[df2.difference == df2.difference.min()]"
   ]
  },
  {
   "cell_type": "markdown",
   "id": "105509a6",
   "metadata": {},
   "source": [
    "### Logistic Regression on Train and Validate"
   ]
  },
  {
   "cell_type": "code",
   "execution_count": 41,
   "id": "07cb7b03",
   "metadata": {
    "scrolled": true
   },
   "outputs": [
    {
     "data": {
      "text/html": [
       "<div>\n",
       "<style scoped>\n",
       "    .dataframe tbody tr th:only-of-type {\n",
       "        vertical-align: middle;\n",
       "    }\n",
       "\n",
       "    .dataframe tbody tr th {\n",
       "        vertical-align: top;\n",
       "    }\n",
       "\n",
       "    .dataframe thead th {\n",
       "        text-align: right;\n",
       "    }\n",
       "</style>\n",
       "<table border=\"1\" class=\"dataframe\">\n",
       "  <thead>\n",
       "    <tr style=\"text-align: right;\">\n",
       "      <th></th>\n",
       "      <th>C</th>\n",
       "      <th>train_accuracy</th>\n",
       "      <th>validate_accuracy</th>\n",
       "      <th>difference</th>\n",
       "    </tr>\n",
       "  </thead>\n",
       "  <tbody>\n",
       "    <tr>\n",
       "      <th>0</th>\n",
       "      <td>0.001</td>\n",
       "      <td>0.792228</td>\n",
       "      <td>0.784953</td>\n",
       "      <td>0.007275</td>\n",
       "    </tr>\n",
       "    <tr>\n",
       "      <th>1</th>\n",
       "      <td>0.005</td>\n",
       "      <td>0.797308</td>\n",
       "      <td>0.790877</td>\n",
       "      <td>0.006431</td>\n",
       "    </tr>\n",
       "    <tr>\n",
       "      <th>2</th>\n",
       "      <td>0.010</td>\n",
       "      <td>0.800610</td>\n",
       "      <td>0.789100</td>\n",
       "      <td>0.011510</td>\n",
       "    </tr>\n",
       "    <tr>\n",
       "      <th>3</th>\n",
       "      <td>0.050</td>\n",
       "      <td>0.799594</td>\n",
       "      <td>0.790284</td>\n",
       "      <td>0.009309</td>\n",
       "    </tr>\n",
       "    <tr>\n",
       "      <th>4</th>\n",
       "      <td>0.100</td>\n",
       "      <td>0.802642</td>\n",
       "      <td>0.786730</td>\n",
       "      <td>0.015912</td>\n",
       "    </tr>\n",
       "    <tr>\n",
       "      <th>5</th>\n",
       "      <td>0.500</td>\n",
       "      <td>0.799848</td>\n",
       "      <td>0.788507</td>\n",
       "      <td>0.011340</td>\n",
       "    </tr>\n",
       "    <tr>\n",
       "      <th>6</th>\n",
       "      <td>1.000</td>\n",
       "      <td>0.803404</td>\n",
       "      <td>0.787322</td>\n",
       "      <td>0.016081</td>\n",
       "    </tr>\n",
       "    <tr>\n",
       "      <th>7</th>\n",
       "      <td>5.000</td>\n",
       "      <td>0.799340</td>\n",
       "      <td>0.790877</td>\n",
       "      <td>0.008463</td>\n",
       "    </tr>\n",
       "    <tr>\n",
       "      <th>8</th>\n",
       "      <td>10.000</td>\n",
       "      <td>0.802896</td>\n",
       "      <td>0.786730</td>\n",
       "      <td>0.016166</td>\n",
       "    </tr>\n",
       "    <tr>\n",
       "      <th>9</th>\n",
       "      <td>50.000</td>\n",
       "      <td>0.799594</td>\n",
       "      <td>0.790877</td>\n",
       "      <td>0.008717</td>\n",
       "    </tr>\n",
       "    <tr>\n",
       "      <th>10</th>\n",
       "      <td>100.000</td>\n",
       "      <td>0.802134</td>\n",
       "      <td>0.789692</td>\n",
       "      <td>0.012442</td>\n",
       "    </tr>\n",
       "    <tr>\n",
       "      <th>11</th>\n",
       "      <td>500.000</td>\n",
       "      <td>0.798832</td>\n",
       "      <td>0.791469</td>\n",
       "      <td>0.007362</td>\n",
       "    </tr>\n",
       "    <tr>\n",
       "      <th>12</th>\n",
       "      <td>1000.000</td>\n",
       "      <td>0.803150</td>\n",
       "      <td>0.789692</td>\n",
       "      <td>0.013458</td>\n",
       "    </tr>\n",
       "  </tbody>\n",
       "</table>\n",
       "</div>"
      ],
      "text/plain": [
       "           C  train_accuracy  validate_accuracy  difference\n",
       "0      0.001        0.792228           0.784953    0.007275\n",
       "1      0.005        0.797308           0.790877    0.006431\n",
       "2      0.010        0.800610           0.789100    0.011510\n",
       "3      0.050        0.799594           0.790284    0.009309\n",
       "4      0.100        0.802642           0.786730    0.015912\n",
       "5      0.500        0.799848           0.788507    0.011340\n",
       "6      1.000        0.803404           0.787322    0.016081\n",
       "7      5.000        0.799340           0.790877    0.008463\n",
       "8     10.000        0.802896           0.786730    0.016166\n",
       "9     50.000        0.799594           0.790877    0.008717\n",
       "10   100.000        0.802134           0.789692    0.012442\n",
       "11   500.000        0.798832           0.791469    0.007362\n",
       "12  1000.000        0.803150           0.789692    0.013458"
      ]
     },
     "execution_count": 41,
     "metadata": {},
     "output_type": "execute_result"
    }
   ],
   "source": [
    "# Evaluate Logistic Regression models on train & validate set by looping through different values for c hyperparameter\n",
    "\n",
    "# create empty list for which to append metrics from each loop\n",
    "metrics = []\n",
    "\n",
    "# create loop for values in list\n",
    "for c in [.001, .005, .01, .05, .1, .5, 1, 5, 10, 50, 100, 500, 1000]:\n",
    "            \n",
    "    # define the model setting hyperparameters to values for current loop\n",
    "    logit = LogisticRegression(C=c)\n",
    "    \n",
    "    # fit the model on train\n",
    "    logit.fit(X_train, y_train)\n",
    "    \n",
    "    # use the model and evaluate performance on train\n",
    "    train_accuracy = logit.score(X_train, y_train)\n",
    "    # use the model and evaluate performance on validate\n",
    "    validate_accuracy = logit.score(X_validate, y_validate)\n",
    "    \n",
    "    # create output of current loop's hyperparameters and accuracy to append to metrics\n",
    "    output = {\n",
    "        'C': c,\n",
    "        'train_accuracy': train_accuracy,\n",
    "        'validate_accuracy': validate_accuracy\n",
    "    }\n",
    "    \n",
    "    metrics.append(output)\n",
    "\n",
    "# convert metrics list to a dataframe for easy reading\n",
    "df3 = pd.DataFrame(metrics)\n",
    "# add column to assess the difference between train & validate accuracy\n",
    "df3['difference'] = df3.train_accuracy - df3.validate_accuracy\n",
    "df3"
   ]
  },
  {
   "cell_type": "markdown",
   "id": "946bcd4c",
   "metadata": {},
   "source": [
    "### The Logistric Regression model has the most accurate throughout the dataset and has a lower change of overfitting data with minimal differences between both train and validate sets. "
   ]
  },
  {
   "cell_type": "markdown",
   "id": "169597d2",
   "metadata": {},
   "source": [
    "### For the test dataset, I'll be selecting the C value from the model where there is minimal difference between the the accuracy of the train and validate datasets."
   ]
  },
  {
   "cell_type": "code",
   "execution_count": 42,
   "id": "d0407319",
   "metadata": {},
   "outputs": [
    {
     "data": {
      "text/html": [
       "<div>\n",
       "<style scoped>\n",
       "    .dataframe tbody tr th:only-of-type {\n",
       "        vertical-align: middle;\n",
       "    }\n",
       "\n",
       "    .dataframe tbody tr th {\n",
       "        vertical-align: top;\n",
       "    }\n",
       "\n",
       "    .dataframe thead th {\n",
       "        text-align: right;\n",
       "    }\n",
       "</style>\n",
       "<table border=\"1\" class=\"dataframe\">\n",
       "  <thead>\n",
       "    <tr style=\"text-align: right;\">\n",
       "      <th></th>\n",
       "      <th>C</th>\n",
       "      <th>train_accuracy</th>\n",
       "      <th>validate_accuracy</th>\n",
       "      <th>difference</th>\n",
       "    </tr>\n",
       "  </thead>\n",
       "  <tbody>\n",
       "    <tr>\n",
       "      <th>1</th>\n",
       "      <td>0.005</td>\n",
       "      <td>0.797308</td>\n",
       "      <td>0.790877</td>\n",
       "      <td>0.006431</td>\n",
       "    </tr>\n",
       "  </tbody>\n",
       "</table>\n",
       "</div>"
      ],
      "text/plain": [
       "       C  train_accuracy  validate_accuracy  difference\n",
       "1  0.005        0.797308           0.790877    0.006431"
      ]
     },
     "execution_count": 42,
     "metadata": {},
     "output_type": "execute_result"
    }
   ],
   "source": [
    "df3[df3.difference == df3.difference.min()]"
   ]
  },
  {
   "cell_type": "markdown",
   "id": "f3f7ca31",
   "metadata": {},
   "source": [
    "- ###  This will be where the C value = 1"
   ]
  },
  {
   "cell_type": "code",
   "execution_count": 43,
   "id": "2b0ee167",
   "metadata": {},
   "outputs": [
    {
     "name": "stdout",
     "output_type": "stream",
     "text": [
      "Test Dataset Accuracy Score : 81.24%\n"
     ]
    }
   ],
   "source": [
    "logit = LogisticRegression(C=1)\n",
    "\n",
    "#fit the data\n",
    "logit.fit(X_test, y_test)\n",
    "\n",
    "#score the data\n",
    "score = (logit.score(X_test, y_test)*100)\n",
    "score_percent = \"{:.2f}\".format(score)\n",
    "\n",
    "print(f'Test Dataset Accuracy Score : {score_percent}%')"
   ]
  },
  {
   "cell_type": "markdown",
   "id": "89669dc2",
   "metadata": {},
   "source": [
    "### Now I will get the predictions..."
   ]
  },
  {
   "cell_type": "code",
   "execution_count": 44,
   "id": "68404305",
   "metadata": {},
   "outputs": [],
   "source": [
    "y_prediction = logit.predict(X_test)"
   ]
  },
  {
   "cell_type": "markdown",
   "id": "00ffc169",
   "metadata": {},
   "source": [
    "### Then the probability"
   ]
  },
  {
   "cell_type": "code",
   "execution_count": 45,
   "id": "3260256d",
   "metadata": {},
   "outputs": [],
   "source": [
    "y_prediction_probability = logit.predict_proba(X_test)"
   ]
  },
  {
   "cell_type": "markdown",
   "id": "0b22da2d",
   "metadata": {},
   "source": [
    "### Finally, I will create the predictions and probability csv file"
   ]
  },
  {
   "cell_type": "code",
   "execution_count": 46,
   "id": "4997f800",
   "metadata": {},
   "outputs": [],
   "source": [
    "predictions = pd.DataFrame(columns=['customer_id','probability_of_churn',\n",
    "                                    'churn_prediction', 'actual_churn'])\n",
    "predictions['customer_id'] = test.customer_id\n",
    "predictions['probability_of_churn'] = y_prediction_probability\n",
    "predictions['churn_prediction'] = y_prediction\n",
    "predictions['actual_churn'] = test.churn\n",
    "\n",
    "predictions.churn_prediction = predictions.churn_prediction.map({1: 'Yes', 0: 'No'})\n",
    "predictions.actual_churn = predictions.actual_churn.map({1: 'Yes', 0: 'No'})"
   ]
  },
  {
   "cell_type": "code",
   "execution_count": 47,
   "id": "e22e53b8",
   "metadata": {
    "scrolled": false
   },
   "outputs": [
    {
     "data": {
      "text/html": [
       "<div>\n",
       "<style scoped>\n",
       "    .dataframe tbody tr th:only-of-type {\n",
       "        vertical-align: middle;\n",
       "    }\n",
       "\n",
       "    .dataframe tbody tr th {\n",
       "        vertical-align: top;\n",
       "    }\n",
       "\n",
       "    .dataframe thead th {\n",
       "        text-align: right;\n",
       "    }\n",
       "</style>\n",
       "<table border=\"1\" class=\"dataframe\">\n",
       "  <thead>\n",
       "    <tr style=\"text-align: right;\">\n",
       "      <th></th>\n",
       "      <th>customer_id</th>\n",
       "      <th>probability_of_churn</th>\n",
       "      <th>churn_prediction</th>\n",
       "      <th>actual_churn</th>\n",
       "    </tr>\n",
       "  </thead>\n",
       "  <tbody>\n",
       "    <tr>\n",
       "      <th>3311</th>\n",
       "      <td>4716-MRVEN</td>\n",
       "      <td>0.973144</td>\n",
       "      <td>No</td>\n",
       "      <td>No</td>\n",
       "    </tr>\n",
       "    <tr>\n",
       "      <th>6330</th>\n",
       "      <td>8966-KZXXA</td>\n",
       "      <td>0.987744</td>\n",
       "      <td>No</td>\n",
       "      <td>No</td>\n",
       "    </tr>\n",
       "    <tr>\n",
       "      <th>6156</th>\n",
       "      <td>8720-RQSBJ</td>\n",
       "      <td>0.534560</td>\n",
       "      <td>No</td>\n",
       "      <td>No</td>\n",
       "    </tr>\n",
       "    <tr>\n",
       "      <th>5313</th>\n",
       "      <td>7504-UWHNB</td>\n",
       "      <td>0.621188</td>\n",
       "      <td>No</td>\n",
       "      <td>No</td>\n",
       "    </tr>\n",
       "    <tr>\n",
       "      <th>1176</th>\n",
       "      <td>1730-VFMWO</td>\n",
       "      <td>0.840876</td>\n",
       "      <td>No</td>\n",
       "      <td>No</td>\n",
       "    </tr>\n",
       "    <tr>\n",
       "      <th>...</th>\n",
       "      <td>...</td>\n",
       "      <td>...</td>\n",
       "      <td>...</td>\n",
       "      <td>...</td>\n",
       "    </tr>\n",
       "    <tr>\n",
       "      <th>600</th>\n",
       "      <td>0877-SDMBN</td>\n",
       "      <td>0.877360</td>\n",
       "      <td>No</td>\n",
       "      <td>Yes</td>\n",
       "    </tr>\n",
       "    <tr>\n",
       "      <th>3946</th>\n",
       "      <td>5555-RNPGT</td>\n",
       "      <td>0.909848</td>\n",
       "      <td>No</td>\n",
       "      <td>No</td>\n",
       "    </tr>\n",
       "    <tr>\n",
       "      <th>3230</th>\n",
       "      <td>4628-CTTLA</td>\n",
       "      <td>0.892775</td>\n",
       "      <td>No</td>\n",
       "      <td>Yes</td>\n",
       "    </tr>\n",
       "    <tr>\n",
       "      <th>349</th>\n",
       "      <td>0516-QREYC</td>\n",
       "      <td>0.884457</td>\n",
       "      <td>No</td>\n",
       "      <td>No</td>\n",
       "    </tr>\n",
       "    <tr>\n",
       "      <th>3690</th>\n",
       "      <td>5198-HQAEN</td>\n",
       "      <td>0.799590</td>\n",
       "      <td>No</td>\n",
       "      <td>No</td>\n",
       "    </tr>\n",
       "  </tbody>\n",
       "</table>\n",
       "<p>1407 rows × 4 columns</p>\n",
       "</div>"
      ],
      "text/plain": [
       "     customer_id  probability_of_churn churn_prediction actual_churn\n",
       "3311  4716-MRVEN              0.973144               No           No\n",
       "6330  8966-KZXXA              0.987744               No           No\n",
       "6156  8720-RQSBJ              0.534560               No           No\n",
       "5313  7504-UWHNB              0.621188               No           No\n",
       "1176  1730-VFMWO              0.840876               No           No\n",
       "...          ...                   ...              ...          ...\n",
       "600   0877-SDMBN              0.877360               No          Yes\n",
       "3946  5555-RNPGT              0.909848               No           No\n",
       "3230  4628-CTTLA              0.892775               No          Yes\n",
       "349   0516-QREYC              0.884457               No           No\n",
       "3690  5198-HQAEN              0.799590               No           No\n",
       "\n",
       "[1407 rows x 4 columns]"
      ]
     },
     "execution_count": 47,
     "metadata": {},
     "output_type": "execute_result"
    }
   ],
   "source": [
    "predictions"
   ]
  },
  {
   "cell_type": "code",
   "execution_count": 48,
   "id": "41f08b95",
   "metadata": {},
   "outputs": [
    {
     "data": {
      "text/plain": [
       "No     1033\n",
       "Yes     374\n",
       "Name: actual_churn, dtype: int64"
      ]
     },
     "execution_count": 48,
     "metadata": {},
     "output_type": "execute_result"
    }
   ],
   "source": [
    "predictions.actual_churn.value_counts()"
   ]
  },
  {
   "cell_type": "code",
   "execution_count": 49,
   "id": "5dc446d1",
   "metadata": {},
   "outputs": [],
   "source": [
    "predictions.to_csv('telco_churn_prediction.csv')"
   ]
  }
 ],
 "metadata": {
  "kernelspec": {
   "display_name": "Python 3 (ipykernel)",
   "language": "python",
   "name": "python3"
  },
  "language_info": {
   "codemirror_mode": {
    "name": "ipython",
    "version": 3
   },
   "file_extension": ".py",
   "mimetype": "text/x-python",
   "name": "python",
   "nbconvert_exporter": "python",
   "pygments_lexer": "ipython3",
   "version": "3.9.7"
  }
 },
 "nbformat": 4,
 "nbformat_minor": 5
}
