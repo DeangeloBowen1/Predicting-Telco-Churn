{
 "cells": [
  {
   "cell_type": "markdown",
   "id": "3f168746",
   "metadata": {},
   "source": [
    "# Predicting Telco Churn\n",
    "\n",
    "by: DeAngelo Bowen\n",
    "24 May, 2022\n",
    "\n",
    "\n",
    "---\n"
   ]
  },
  {
   "cell_type": "markdown",
   "id": "e253dee5",
   "metadata": {},
   "source": [
    "## Project Overview\n",
    "---"
   ]
  },
  {
   "cell_type": "markdown",
   "id": "e3db9e8f",
   "metadata": {},
   "source": [
    "## Objectives : \n",
    "\n",
    "- To observe key drivers of churn at Telco to determine primary causes to why customers are churning. \n",
    "- Construct a Machine Learning model using classification techniques to predict customer churn for a group of customers. \n",
    "- Deliver a report that is clear and highlights key findings and insights, while summarizing the processes taken to reach them. \n",
    "- To answer all questions regarding code, process, key takeaways, and models any stakeholder may have.\n",
    "---"
   ]
  },
  {
   "cell_type": "markdown",
   "id": "6da6507f",
   "metadata": {},
   "source": [
    "## Project Description :"
   ]
  },
  {
   "cell_type": "markdown",
   "id": "4c5b334c",
   "metadata": {},
   "source": [
    "**TelcoCo**, a telecommunications company, is rapidly churning customers at a rate of nearly **27% percent**. Why are the customers churning? How can they reduce customer churn? The minimum viable product (MVP) is a machine learning model that can accurately predict customer churn and make predictions that can be used to mak recommendations, that can produce potential change which will **shape TelcoCo's future**.\n",
    "\n",
    "---"
   ]
  },
  {
   "cell_type": "markdown",
   "id": "f3167c74",
   "metadata": {},
   "source": [
    "## Imports :"
   ]
  },
  {
   "cell_type": "code",
   "execution_count": 1,
   "id": "b327dcc0",
   "metadata": {},
   "outputs": [],
   "source": [
    "# import pandas for dataframe manipulation\n",
    "import pandas as pd\n",
    "\n",
    "# imports for visualizations\n",
    "import matplotlib.pyplot as plt\n",
    "import seaborn as sns\n",
    "\n",
    "# import for statistical analysis\n",
    "from scipy import stats as stats\n",
    "\n",
    "# import for modeling data\n",
    "from sklearn.model_selection import train_test_split\n",
    "from sklearn.ensemble import RandomForestClassifier\n",
    "from sklearn.neighbors import KNeighborsClassifier\n",
    "from sklearn.linear_model import LogisticRegression\n",
    "\n",
    "import warnings\n",
    "warnings.filterwarnings(\"ignore\")\n",
    "\n",
    "# import for process repitition, aquiring, and preparing TelcoCo data\n",
    "import acquire as aq\n",
    "import prepare as prep\n",
    "import explore as ex\n",
    "import model as md"
   ]
  },
  {
   "cell_type": "markdown",
   "id": "5dd2fc4c",
   "metadata": {},
   "source": [
    "---\n",
    "# Preparation :"
   ]
  },
  {
   "cell_type": "markdown",
   "id": "79cec974",
   "metadata": {},
   "source": [
    "To acquire the telco data, I utilized the telco_churn database located in the CodeUp mySQL server. Here, I selected all columns from the customers table, then joined the contract_types, payment_types, and internet_service_types tables.\n",
    "\n",
    "#### The SQL code is : "
   ]
  },
  {
   "cell_type": "markdown",
   "id": "16e3c8a1",
   "metadata": {},
   "source": [
    "> ```python\n",
    "SELECT * FROM customers\n",
    "        JOIN contract_types USING (contract_type_id)\n",
    "        JOIN payment_types USING (payment_type_id)\n",
    "        JOIN internet_service_types USING (internet_service_type_id);\n",
    "```"
   ]
  },
  {
   "cell_type": "markdown",
   "id": "a700bcb4",
   "metadata": {},
   "source": [
    "### Following the aquisition of the data, I needed to prepare the data and split it into three working datasets:\n",
    "\n",
    "- Train\n",
    "- Validate\n",
    "- Test"
   ]
  },
  {
   "cell_type": "code",
   "execution_count": 2,
   "id": "2e14714a",
   "metadata": {},
   "outputs": [],
   "source": [
    "# calling the aquire.py file get_telco_data() function\n",
    "telco = aq.get_telco_data()\n",
    "\n",
    "# calling the prepare.py file and storing the prepped data in an attribute\n",
    "df = prep.prep_telco(telco)\n",
    "\n",
    "# splitting the prepared data into my 3 working datasets\n",
    "train, validate, test = df"
   ]
  },
  {
   "cell_type": "markdown",
   "id": "01011d92",
   "metadata": {},
   "source": [
    "---"
   ]
  },
  {
   "cell_type": "markdown",
   "id": "d32ce857",
   "metadata": {},
   "source": [
    "### Final Preparations :\n",
    "1. Identified each of the features data types and manipulated relevant columns to integers.\n",
    "2. Removed all irrelevant or duplicated columns. \n",
    "3. Encoded to numerical values (Changed Yes's to 1, No's to 0)\n",
    "4. Renamed columns to more appropriate and identifiable naming conventions.\n",
    "5. Repeated these steps on the split data for future modeling. "
   ]
  },
  {
   "cell_type": "markdown",
   "id": "10657c86",
   "metadata": {},
   "source": [
    "---\n",
    "# Exploring the Data"
   ]
  },
  {
   "cell_type": "markdown",
   "id": "b5d3b174",
   "metadata": {},
   "source": [
    "## The Goal :\n",
    "\n",
    "#### The goal is to discover features that have the largest impact on the target variable Churn"
   ]
  },
  {
   "cell_type": "markdown",
   "id": "39573d6c",
   "metadata": {},
   "source": [
    "### Questions related to drivers of churn : \n",
    "> - Is there unexpected services related to churn, and why? \n",
    "> - Are those who use mailed checks for payments more or less likely to churn?\n",
    "> - Do customers who have dependents more likely to have longer tenure than those who do not? \n",
    "> - On average when do month to month customers churn? Is there a significant pattern of churns around a certain amount of tenure? "
   ]
  },
  {
   "cell_type": "markdown",
   "id": "e0f9b93f",
   "metadata": {},
   "source": [
    "### Vizualizing Churn :"
   ]
  },
  {
   "cell_type": "code",
   "execution_count": 3,
   "id": "a0454a9a",
   "metadata": {
    "scrolled": false
   },
   "outputs": [
    {
     "data": {
      "image/png": "[encoded data removed]",
      "text/plain": [
       "<Figure size 432x288 with 1 Axes>"
      ]
     },
     "metadata": {
      "needs_background": "light"
     },
     "output_type": "display_data"
    }
   ],
   "source": [
    "has_churned = (train.churn.mean() * 100)\n",
    "\n",
    "percent = \"{:.2f}\".format(has_churned)\n",
    "\n",
    "ax = train.churn.value_counts().sort_index().plot.bar()\n",
    "plt.title(f'Churn rate in Percentage : {percent}%')\n",
    "ax.set(xlabel=None)\n",
    "ax.set_xticklabels(['Has not churned', 'has churned'], rotation=0)\n",
    "plt.show()"
   ]
  },
  {
   "cell_type": "markdown",
   "id": "65439a0d",
   "metadata": {},
   "source": [
    "### Takeaway : \n",
    "-  26.57% of Telco customers have churned over a lifetime period.\n",
    "- This is over 5% of the national average of 21%. \n",
    "    - Source: [Statista.com](https://www.statista.com/statistics/816735/customer-churn-rate-by-industry-us/)\n",
    "- With this knowledge in mind, let's look at the drivers of churn and what we can do to reduce churn."
   ]
  },
  {
   "cell_type": "markdown",
   "id": "df6ad6a8",
   "metadata": {},
   "source": [
    "### First, let's take a look at each feature and how they relate to churn:"
   ]
  },
  {
   "cell_type": "code",
   "execution_count": 4,
   "id": "07b4372f",
   "metadata": {
    "scrolled": false
   },
   "outputs": [
    {
     "data": {
      "image/png": "[encoded data removed]",
      "text/plain": [
       "<Figure size 1080x576 with 1 Axes>"
      ]
     },
     "metadata": {
      "needs_background": "light"
     },
     "output_type": "display_data"
    }
   ],
   "source": [
    "# exploration .py correlation chart function\n",
    "ex.full_corr_chart()"
   ]
  },
  {
   "cell_type": "markdown",
   "id": "aea43430",
   "metadata": {},
   "source": [
    "#### *There are quite a few negative correlations to churn within the dataset, however, our goal is to find the drivers of churn, meaning we need those with a positive correlation with churn*"
   ]
  },
  {
   "cell_type": "code",
   "execution_count": 5,
   "id": "f9dcf2a0",
   "metadata": {},
   "outputs": [
    {
     "data": {
      "image/png": "[encoded data removed]",
      "text/plain": [
       "<Figure size 1080x576 with 1 Axes>"
      ]
     },
     "metadata": {
      "needs_background": "light"
     },
     "output_type": "display_data"
    }
   ],
   "source": [
    "ex.churn_corr_chart()"
   ]
  },
  {
   "cell_type": "markdown",
   "id": "898f7bc1",
   "metadata": {},
   "source": [
    "### Takeaways :\n",
    "- Drivers of Churn : \n",
    "    - Top 5: \n",
    "        - Paperless billing\n",
    "        - High Monthly Charges\n",
    "        - Electronic Payment Customers\n",
    "        - Fiber Optic Internet \n",
    "        - Month to Month Contracts"
   ]
  },
  {
   "cell_type": "markdown",
   "id": "ee3f6ac8",
   "metadata": {},
   "source": [
    "# Question 1:\n",
    "### Unexpected Services related to churn : \n",
    "- Based on the correlation graph, and count plots a major unexpected feature related to churn would be having fiber optic internet. Because of this obeservation, I will take a look at the internet service types."
   ]
  },
  {
   "cell_type": "code",
   "execution_count": 6,
   "id": "a462622d",
   "metadata": {
    "scrolled": false
   },
   "outputs": [
    {
     "data": {
      "image/png": "[encoded data removed]",
      "text/plain": [
       "<Figure size 432x288 with 1 Axes>"
      ]
     },
     "metadata": {},
     "output_type": "display_data"
    },
    {
     "data": {
      "image/png": "[encoded data removed]",
      "text/plain": [
       "<Figure size 432x288 with 1 Axes>"
      ]
     },
     "metadata": {},
     "output_type": "display_data"
    },
    {
     "data": {
      "image/png": "[encoded data removed]",
      "text/plain": [
       "<Figure size 432x288 with 1 Axes>"
      ]
     },
     "metadata": {},
     "output_type": "display_data"
    }
   ],
   "source": [
    "# check internet service types from original telco data\n",
    "ex.check_internet_types()"
   ]
  },
  {
   "cell_type": "markdown",
   "id": "0d8a230b",
   "metadata": {},
   "source": [
    "### Hypothesis\n",
    "\n",
    "#### ${H_0}$:  Fiber optic internet is independent of churning. They are not correlated.\n",
    "\n",
    "#### ${H_a}$: Fiber optic internet and churning are dependent on one another and are correlated. \n",
    "\n",
    "*I will conduct a chi square test on fiber optic internet and churn.*"
   ]
  },
  {
   "cell_type": "code",
   "execution_count": 7,
   "id": "093e62ec",
   "metadata": {},
   "outputs": [],
   "source": [
    "# set alpha\n",
    "alpha = .05"
   ]
  },
  {
   "cell_type": "code",
   "execution_count": 8,
   "id": "07bad042",
   "metadata": {},
   "outputs": [],
   "source": [
    "variable = train.fiber_optic_internet\n",
    "target = train.churn\n",
    "\n",
    "observed = pd.crosstab(variable, target)"
   ]
  },
  {
   "cell_type": "code",
   "execution_count": 9,
   "id": "97a5a6e5",
   "metadata": {},
   "outputs": [
    {
     "name": "stdout",
     "output_type": "stream",
     "text": [
      "I reject the null hypothesis that the variables are independent of one another. There is a correlation between them.\n"
     ]
    }
   ],
   "source": [
    "chi2, p, degf, expected = stats.chi2_contingency(observed)\n",
    "\n",
    "# test against the null and alternative hypothesis:\n",
    "if p < alpha:\n",
    "    print('I reject the null hypothesis that the variables are independent of one another. There is a correlation between them.')\n",
    "else:\n",
    "    print('I fail to reject the null hypothesis that the variables are independent of one another. There is no correlation between them')\n",
    "    "
   ]
  },
  {
   "cell_type": "markdown",
   "id": "2faec7ab",
   "metadata": {},
   "source": [
    "## Takeaways:\n",
    "- DSL internet has the largest amount of customers by a short margin, with about 25% churn. \n",
    "- <code style=\"background:yellow;color:black\">Fiber optic internet has a near 75% churn rate and are more likely to churn.</code>\n",
    "- Those with no internet are less likely to churn. \n",
    "- Having multiple lines or not doesn't seem to have a strong correlaton to churn."
   ]
  },
  {
   "cell_type": "markdown",
   "id": "a5684489",
   "metadata": {},
   "source": [
    "# Question 2:"
   ]
  },
  {
   "cell_type": "markdown",
   "id": "baa2a8ca",
   "metadata": {},
   "source": [
    "### Is there a payment type strongly related to churn?"
   ]
  },
  {
   "cell_type": "markdown",
   "id": "66ebb632",
   "metadata": {},
   "source": [
    "#### To find this out, let's run a countplot on all payment types: "
   ]
  },
  {
   "cell_type": "code",
   "execution_count": 10,
   "id": "e1e8f447",
   "metadata": {
    "scrolled": false
   },
   "outputs": [
    {
     "data": {
      "image/png": "[encoded data removed]",
      "text/plain": [
       "<Figure size 432x288 with 1 Axes>"
      ]
     },
     "metadata": {},
     "output_type": "display_data"
    },
    {
     "data": {
      "image/png": "[encoded data removed]",
      "text/plain": [
       "<Figure size 432x288 with 1 Axes>"
      ]
     },
     "metadata": {},
     "output_type": "display_data"
    },
    {
     "data": {
      "image/png": "[encoded data removed]",
      "text/plain": [
       "<Figure size 432x288 with 1 Axes>"
      ]
     },
     "metadata": {},
     "output_type": "display_data"
    },
    {
     "data": {
      "image/png": "[encoded data removed]",
      "text/plain": [
       "<Figure size 432x288 with 1 Axes>"
      ]
     },
     "metadata": {},
     "output_type": "display_data"
    }
   ],
   "source": [
    "ex.check_payment_types()"
   ]
  },
  {
   "cell_type": "markdown",
   "id": "add51310",
   "metadata": {},
   "source": [
    "### Hypothesis\n",
    "\n",
    "#### ${H_0}$:  Paying by Electronic Check is independent of churning. They are not correlated.\n",
    "\n",
    "#### ${H_a}$: Paying by Electronic Check and churning are dependent on one another and are correlated. \n",
    "\n",
    "I will conduct a chi square test on Electronic Check Pay and churn."
   ]
  },
  {
   "cell_type": "code",
   "execution_count": 11,
   "id": "50c18842",
   "metadata": {},
   "outputs": [
    {
     "name": "stdout",
     "output_type": "stream",
     "text": [
      "I reject the null hypothesis that the variables are independent of one another. There is a correlation between them.\n"
     ]
    }
   ],
   "source": [
    "variable2 = train.electronic_check_pay\n",
    "\n",
    "#re-used churn target\n",
    "observed = pd.crosstab(variable, target)\n",
    "\n",
    "chi2, p, degf, expected = stats.chi2_contingency(observed)\n",
    "\n",
    "# test against the null and alternative hypothesis:\n",
    "if p < alpha:\n",
    "    print('I reject the null hypothesis that the variables are independent of one another. There is a correlation between them.')\n",
    "else:\n",
    "    print('I fail to reject the null hypothesis that the variables are independent of one another. There is no correlation between them')"
   ]
  },
  {
   "cell_type": "markdown",
   "id": "76421530",
   "metadata": {},
   "source": [
    "## Takeaways: \n",
    "- Bank transfer and mailed check pay nearly the same amount of customers and the same amount of churn. \n",
    "- Mailed Check Pay are less likely to churn\n",
    "- <code style=\"background:yellow;color:black\">Nearly all of the customers in electronic check pay have churned.</code>\n",
    "- Credit card pay is the most popular service with a low churn rate."
   ]
  },
  {
   "cell_type": "markdown",
   "id": "961b73a0",
   "metadata": {},
   "source": [
    "## Question 3 : "
   ]
  },
  {
   "cell_type": "markdown",
   "id": "2fae4be2",
   "metadata": {},
   "source": [
    "### Are customers who have dependents more likely to have longer tenure than those who do not?"
   ]
  },
  {
   "cell_type": "code",
   "execution_count": 12,
   "id": "7445263e",
   "metadata": {
    "scrolled": true
   },
   "outputs": [
    {
     "data": {
      "image/png": "[encoded data removed]",
      "text/plain": [
       "<Figure size 405.725x360 with 1 Axes>"
      ]
     },
     "metadata": {},
     "output_type": "display_data"
    }
   ],
   "source": [
    "ex.dependents_and_tenure()"
   ]
  },
  {
   "cell_type": "markdown",
   "id": "2c2bbba6",
   "metadata": {},
   "source": [
    "### Hypothesis\n",
    "\n",
    "#### ${H_0}$:  Having Dependents is independent of having higher tenure. They are not correlated.\n",
    "\n",
    "#### ${H_a}$: Having Dependents and higher tenure are dependent on one another and are correlated. \n",
    "\n",
    "I will conduct a 1 sample T-Test on Dependents and Tenure"
   ]
  },
  {
   "cell_type": "code",
   "execution_count": 13,
   "id": "b7c89a1d",
   "metadata": {},
   "outputs": [
    {
     "name": "stdout",
     "output_type": "stream",
     "text": [
      "I reject the null hypothesis that the variables are independent of one another. There is a correlation between them.\n"
     ]
    }
   ],
   "source": [
    "dependents = train[train.dependents == 1].tenure\n",
    "tenure_mean = train.tenure.mean()\n",
    "\n",
    "t, p = stats.ttest_1samp(dependents, tenure_mean)\n",
    "\n",
    "if p/2 < alpha:\n",
    "    print('I reject the null hypothesis that the variables are independent of one another. There is a correlation between them.')\n",
    "else:\n",
    "    print('I fail to reject the null hypothesis that the variables are independent of one another. There is no correlation between them')\n",
    "    "
   ]
  },
  {
   "cell_type": "markdown",
   "id": "5bca104c",
   "metadata": {},
   "source": [
    "## Takeaways:\n",
    "- <code style=\"background:yellow;color:black\">Those with dependents, whether they've churned or not, have higher tenure on average than those who dont.</code>"
   ]
  },
  {
   "cell_type": "markdown",
   "id": "37170a4f",
   "metadata": {},
   "source": [
    "## Question 4 : "
   ]
  },
  {
   "cell_type": "markdown",
   "id": "8c9dfcce",
   "metadata": {},
   "source": [
    "### On average when do month to month customers churn?"
   ]
  },
  {
   "cell_type": "code",
   "execution_count": 14,
   "id": "51ffcfdb",
   "metadata": {
    "scrolled": false
   },
   "outputs": [
    {
     "data": {
      "image/png": "[encoded data removed]",
      "text/plain": [
       "<Figure size 720x720 with 1 Axes>"
      ]
     },
     "metadata": {},
     "output_type": "display_data"
    },
    {
     "data": {
      "image/png": "[encoded data removed]",
      "text/plain": [
       "<Figure size 720x576 with 1 Axes>"
      ]
     },
     "metadata": {},
     "output_type": "display_data"
    }
   ],
   "source": [
    "ex.month_to_month_average_churn()"
   ]
  },
  {
   "cell_type": "markdown",
   "id": "9e578bce",
   "metadata": {},
   "source": [
    "## Takeaways:\n",
    "- The average Tenure of month to month customers is 14 months.\n",
    "- <code style=\"background:yellow;color:black\">An overwhelming majority of cutomers with month to month service churn before their first 10 months.</code>"
   ]
  },
  {
   "cell_type": "markdown",
   "id": "ad6c247a",
   "metadata": {},
   "source": [
    "---\n",
    "\n",
    "# Modeling"
   ]
  },
  {
   "cell_type": "code",
   "execution_count": 15,
   "id": "a8350f6a",
   "metadata": {},
   "outputs": [
    {
     "name": "stdout",
     "output_type": "stream",
     "text": [
      "Our baseline accuracy is: 0.7343154686309372\n"
     ]
    }
   ],
   "source": [
    "# calculate the baseline for the train dataset\n",
    "\n",
    "baseline = (train.churn == 0).mean()\n",
    "print(f'Our baseline accuracy is: {baseline}')"
   ]
  },
  {
   "cell_type": "markdown",
   "id": "b3fe2490",
   "metadata": {},
   "source": [
    "### This baseline of 73% is the accuracy of the amount of customers that we will retain. \n",
    "\n",
    "---\n",
    "\n",
    "###  *Our goal is to create a model that will return over 73% retention in customers.*\n",
    "\n",
    "---"
   ]
  },
  {
   "cell_type": "markdown",
   "id": "d63fe09c",
   "metadata": {},
   "source": [
    "### To do this, first I have prepared the datasets for modeling : "
   ]
  },
  {
   "cell_type": "markdown",
   "id": "040c4c64",
   "metadata": {},
   "source": [
    "### Random Forest on Train and Validate :"
   ]
  },
  {
   "cell_type": "markdown",
   "id": "5b90b8aa",
   "metadata": {},
   "source": [
    "#### I trained 11 models on train and validate data using random forest. Many of the models in the random forest classifier were at risk for overfitting data and potentially returning unbalanced results."
   ]
  },
  {
   "cell_type": "code",
   "execution_count": 16,
   "id": "ca63bae1",
   "metadata": {},
   "outputs": [
    {
     "data": {
      "text/html": [
       "<div>\n",
       "<style scoped>\n",
       "    .dataframe tbody tr th:only-of-type {\n",
       "        vertical-align: middle;\n",
       "    }\n",
       "\n",
       "    .dataframe tbody tr th {\n",
       "        vertical-align: top;\n",
       "    }\n",
       "\n",
       "    .dataframe thead th {\n",
       "        text-align: right;\n",
       "    }\n",
       "</style>\n",
       "<table border=\"1\" class=\"dataframe\">\n",
       "  <thead>\n",
       "    <tr style=\"text-align: right;\">\n",
       "      <th></th>\n",
       "      <th>min_samples_per_leaf</th>\n",
       "      <th>max_depth</th>\n",
       "      <th>train_accuracy</th>\n",
       "      <th>validate_accuracy</th>\n",
       "      <th>difference</th>\n",
       "    </tr>\n",
       "  </thead>\n",
       "  <tbody>\n",
       "    <tr>\n",
       "      <th>0</th>\n",
       "      <td>1</td>\n",
       "      <td>11</td>\n",
       "      <td>0.919482</td>\n",
       "      <td>0.780213</td>\n",
       "      <td>0.139269</td>\n",
       "    </tr>\n",
       "    <tr>\n",
       "      <th>1</th>\n",
       "      <td>2</td>\n",
       "      <td>10</td>\n",
       "      <td>0.868936</td>\n",
       "      <td>0.790877</td>\n",
       "      <td>0.078059</td>\n",
       "    </tr>\n",
       "    <tr>\n",
       "      <th>2</th>\n",
       "      <td>3</td>\n",
       "      <td>9</td>\n",
       "      <td>0.849632</td>\n",
       "      <td>0.781398</td>\n",
       "      <td>0.068234</td>\n",
       "    </tr>\n",
       "    <tr>\n",
       "      <th>3</th>\n",
       "      <td>4</td>\n",
       "      <td>8</td>\n",
       "      <td>0.827534</td>\n",
       "      <td>0.783175</td>\n",
       "      <td>0.044358</td>\n",
       "    </tr>\n",
       "    <tr>\n",
       "      <th>4</th>\n",
       "      <td>5</td>\n",
       "      <td>7</td>\n",
       "      <td>0.822200</td>\n",
       "      <td>0.778436</td>\n",
       "      <td>0.043764</td>\n",
       "    </tr>\n",
       "    <tr>\n",
       "      <th>5</th>\n",
       "      <td>6</td>\n",
       "      <td>6</td>\n",
       "      <td>0.816612</td>\n",
       "      <td>0.778436</td>\n",
       "      <td>0.038176</td>\n",
       "    </tr>\n",
       "    <tr>\n",
       "      <th>6</th>\n",
       "      <td>7</td>\n",
       "      <td>5</td>\n",
       "      <td>0.808484</td>\n",
       "      <td>0.785545</td>\n",
       "      <td>0.022939</td>\n",
       "    </tr>\n",
       "    <tr>\n",
       "      <th>7</th>\n",
       "      <td>8</td>\n",
       "      <td>4</td>\n",
       "      <td>0.800356</td>\n",
       "      <td>0.781991</td>\n",
       "      <td>0.018365</td>\n",
       "    </tr>\n",
       "    <tr>\n",
       "      <th>8</th>\n",
       "      <td>9</td>\n",
       "      <td>3</td>\n",
       "      <td>0.792482</td>\n",
       "      <td>0.776659</td>\n",
       "      <td>0.015823</td>\n",
       "    </tr>\n",
       "    <tr>\n",
       "      <th>9</th>\n",
       "      <td>10</td>\n",
       "      <td>2</td>\n",
       "      <td>0.764542</td>\n",
       "      <td>0.751777</td>\n",
       "      <td>0.012764</td>\n",
       "    </tr>\n",
       "    <tr>\n",
       "      <th>10</th>\n",
       "      <td>11</td>\n",
       "      <td>1</td>\n",
       "      <td>0.734315</td>\n",
       "      <td>0.734005</td>\n",
       "      <td>0.000311</td>\n",
       "    </tr>\n",
       "  </tbody>\n",
       "</table>\n",
       "</div>"
      ],
      "text/plain": [
       "    min_samples_per_leaf  max_depth  train_accuracy  validate_accuracy  \\\n",
       "0                      1         11        0.919482           0.780213   \n",
       "1                      2         10        0.868936           0.790877   \n",
       "2                      3          9        0.849632           0.781398   \n",
       "3                      4          8        0.827534           0.783175   \n",
       "4                      5          7        0.822200           0.778436   \n",
       "5                      6          6        0.816612           0.778436   \n",
       "6                      7          5        0.808484           0.785545   \n",
       "7                      8          4        0.800356           0.781991   \n",
       "8                      9          3        0.792482           0.776659   \n",
       "9                     10          2        0.764542           0.751777   \n",
       "10                    11          1        0.734315           0.734005   \n",
       "\n",
       "    difference  \n",
       "0     0.139269  \n",
       "1     0.078059  \n",
       "2     0.068234  \n",
       "3     0.044358  \n",
       "4     0.043764  \n",
       "5     0.038176  \n",
       "6     0.022939  \n",
       "7     0.018365  \n",
       "8     0.015823  \n",
       "9     0.012764  \n",
       "10    0.000311  "
      ]
     },
     "execution_count": 16,
     "metadata": {},
     "output_type": "execute_result"
    }
   ],
   "source": [
    "df1 = md.forest_model()\n",
    "df1"
   ]
  },
  {
   "cell_type": "markdown",
   "id": "45fc42b4",
   "metadata": {},
   "source": [
    "#### Out of each Random Forest, the best performing model was almost identical to the baseline model. As a result, I moved to  K Nearest Neighbor."
   ]
  },
  {
   "cell_type": "code",
   "execution_count": 17,
   "id": "aabb334b",
   "metadata": {
    "scrolled": true
   },
   "outputs": [
    {
     "data": {
      "text/html": [
       "<div>\n",
       "<style scoped>\n",
       "    .dataframe tbody tr th:only-of-type {\n",
       "        vertical-align: middle;\n",
       "    }\n",
       "\n",
       "    .dataframe tbody tr th {\n",
       "        vertical-align: top;\n",
       "    }\n",
       "\n",
       "    .dataframe thead th {\n",
       "        text-align: right;\n",
       "    }\n",
       "</style>\n",
       "<table border=\"1\" class=\"dataframe\">\n",
       "  <thead>\n",
       "    <tr style=\"text-align: right;\">\n",
       "      <th></th>\n",
       "      <th>min_samples_per_leaf</th>\n",
       "      <th>max_depth</th>\n",
       "      <th>train_accuracy</th>\n",
       "      <th>validate_accuracy</th>\n",
       "      <th>difference</th>\n",
       "    </tr>\n",
       "  </thead>\n",
       "  <tbody>\n",
       "    <tr>\n",
       "      <th>10</th>\n",
       "      <td>11</td>\n",
       "      <td>1</td>\n",
       "      <td>0.734315</td>\n",
       "      <td>0.734005</td>\n",
       "      <td>0.000311</td>\n",
       "    </tr>\n",
       "  </tbody>\n",
       "</table>\n",
       "</div>"
      ],
      "text/plain": [
       "    min_samples_per_leaf  max_depth  train_accuracy  validate_accuracy  \\\n",
       "10                    11          1        0.734315           0.734005   \n",
       "\n",
       "    difference  \n",
       "10    0.000311  "
      ]
     },
     "execution_count": 17,
     "metadata": {},
     "output_type": "execute_result"
    }
   ],
   "source": [
    "df1[df1.difference == df1.difference.min()]"
   ]
  },
  {
   "cell_type": "markdown",
   "id": "677abca9",
   "metadata": {},
   "source": [
    "### KNN on Train and Validate : "
   ]
  },
  {
   "cell_type": "markdown",
   "id": "a2472476",
   "metadata": {},
   "source": [
    "#### I trained 10 models with a KNN classification which presented excellent results initially, however as the K value became lower on the model, the higher chance of overfitting. "
   ]
  },
  {
   "cell_type": "code",
   "execution_count": 18,
   "id": "cf84267c",
   "metadata": {
    "scrolled": true
   },
   "outputs": [
    {
     "data": {
      "text/html": [
       "<div>\n",
       "<style scoped>\n",
       "    .dataframe tbody tr th:only-of-type {\n",
       "        vertical-align: middle;\n",
       "    }\n",
       "\n",
       "    .dataframe tbody tr th {\n",
       "        vertical-align: top;\n",
       "    }\n",
       "\n",
       "    .dataframe thead th {\n",
       "        text-align: right;\n",
       "    }\n",
       "</style>\n",
       "<table border=\"1\" class=\"dataframe\">\n",
       "  <thead>\n",
       "    <tr style=\"text-align: right;\">\n",
       "      <th></th>\n",
       "      <th>k</th>\n",
       "      <th>train_accuracy</th>\n",
       "      <th>validate_accuracy</th>\n",
       "      <th>difference</th>\n",
       "    </tr>\n",
       "  </thead>\n",
       "  <tbody>\n",
       "    <tr>\n",
       "      <th>0</th>\n",
       "      <td>1</td>\n",
       "      <td>0.997714</td>\n",
       "      <td>0.704384</td>\n",
       "      <td>0.293330</td>\n",
       "    </tr>\n",
       "    <tr>\n",
       "      <th>1</th>\n",
       "      <td>2</td>\n",
       "      <td>0.860554</td>\n",
       "      <td>0.749408</td>\n",
       "      <td>0.111146</td>\n",
       "    </tr>\n",
       "    <tr>\n",
       "      <th>2</th>\n",
       "      <td>3</td>\n",
       "      <td>0.857760</td>\n",
       "      <td>0.742299</td>\n",
       "      <td>0.115461</td>\n",
       "    </tr>\n",
       "    <tr>\n",
       "      <th>3</th>\n",
       "      <td>4</td>\n",
       "      <td>0.833376</td>\n",
       "      <td>0.765995</td>\n",
       "      <td>0.067380</td>\n",
       "    </tr>\n",
       "    <tr>\n",
       "      <th>4</th>\n",
       "      <td>5</td>\n",
       "      <td>0.831598</td>\n",
       "      <td>0.757701</td>\n",
       "      <td>0.073896</td>\n",
       "    </tr>\n",
       "    <tr>\n",
       "      <th>5</th>\n",
       "      <td>6</td>\n",
       "      <td>0.819914</td>\n",
       "      <td>0.768957</td>\n",
       "      <td>0.050956</td>\n",
       "    </tr>\n",
       "    <tr>\n",
       "      <th>6</th>\n",
       "      <td>7</td>\n",
       "      <td>0.817882</td>\n",
       "      <td>0.772512</td>\n",
       "      <td>0.045370</td>\n",
       "    </tr>\n",
       "    <tr>\n",
       "      <th>7</th>\n",
       "      <td>8</td>\n",
       "      <td>0.813056</td>\n",
       "      <td>0.780806</td>\n",
       "      <td>0.032250</td>\n",
       "    </tr>\n",
       "    <tr>\n",
       "      <th>8</th>\n",
       "      <td>9</td>\n",
       "      <td>0.815342</td>\n",
       "      <td>0.776066</td>\n",
       "      <td>0.039275</td>\n",
       "    </tr>\n",
       "    <tr>\n",
       "      <th>9</th>\n",
       "      <td>10</td>\n",
       "      <td>0.810008</td>\n",
       "      <td>0.771327</td>\n",
       "      <td>0.038681</td>\n",
       "    </tr>\n",
       "  </tbody>\n",
       "</table>\n",
       "</div>"
      ],
      "text/plain": [
       "    k  train_accuracy  validate_accuracy  difference\n",
       "0   1        0.997714           0.704384    0.293330\n",
       "1   2        0.860554           0.749408    0.111146\n",
       "2   3        0.857760           0.742299    0.115461\n",
       "3   4        0.833376           0.765995    0.067380\n",
       "4   5        0.831598           0.757701    0.073896\n",
       "5   6        0.819914           0.768957    0.050956\n",
       "6   7        0.817882           0.772512    0.045370\n",
       "7   8        0.813056           0.780806    0.032250\n",
       "8   9        0.815342           0.776066    0.039275\n",
       "9  10        0.810008           0.771327    0.038681"
      ]
     },
     "execution_count": 18,
     "metadata": {},
     "output_type": "execute_result"
    }
   ],
   "source": [
    "df2 = md.knn_model()\n",
    "df2"
   ]
  },
  {
   "cell_type": "markdown",
   "id": "68bb7539",
   "metadata": {},
   "source": [
    "#### The best model within the KNN classification is model number 7 with a K value of 8"
   ]
  },
  {
   "cell_type": "code",
   "execution_count": 19,
   "id": "f5154f94",
   "metadata": {},
   "outputs": [
    {
     "data": {
      "text/html": [
       "<div>\n",
       "<style scoped>\n",
       "    .dataframe tbody tr th:only-of-type {\n",
       "        vertical-align: middle;\n",
       "    }\n",
       "\n",
       "    .dataframe tbody tr th {\n",
       "        vertical-align: top;\n",
       "    }\n",
       "\n",
       "    .dataframe thead th {\n",
       "        text-align: right;\n",
       "    }\n",
       "</style>\n",
       "<table border=\"1\" class=\"dataframe\">\n",
       "  <thead>\n",
       "    <tr style=\"text-align: right;\">\n",
       "      <th></th>\n",
       "      <th>k</th>\n",
       "      <th>train_accuracy</th>\n",
       "      <th>validate_accuracy</th>\n",
       "      <th>difference</th>\n",
       "    </tr>\n",
       "  </thead>\n",
       "  <tbody>\n",
       "    <tr>\n",
       "      <th>7</th>\n",
       "      <td>8</td>\n",
       "      <td>0.813056</td>\n",
       "      <td>0.780806</td>\n",
       "      <td>0.03225</td>\n",
       "    </tr>\n",
       "  </tbody>\n",
       "</table>\n",
       "</div>"
      ],
      "text/plain": [
       "   k  train_accuracy  validate_accuracy  difference\n",
       "7  8        0.813056           0.780806     0.03225"
      ]
     },
     "execution_count": 19,
     "metadata": {},
     "output_type": "execute_result"
    }
   ],
   "source": [
    "df2[df2.difference == df2.difference.min()]"
   ]
  },
  {
   "cell_type": "markdown",
   "id": "105509a6",
   "metadata": {},
   "source": [
    "### Logistic Regression on Train and Validate :"
   ]
  },
  {
   "cell_type": "code",
   "execution_count": 20,
   "id": "07cb7b03",
   "metadata": {
    "scrolled": true
   },
   "outputs": [
    {
     "data": {
      "text/html": [
       "<div>\n",
       "<style scoped>\n",
       "    .dataframe tbody tr th:only-of-type {\n",
       "        vertical-align: middle;\n",
       "    }\n",
       "\n",
       "    .dataframe tbody tr th {\n",
       "        vertical-align: top;\n",
       "    }\n",
       "\n",
       "    .dataframe thead th {\n",
       "        text-align: right;\n",
       "    }\n",
       "</style>\n",
       "<table border=\"1\" class=\"dataframe\">\n",
       "  <thead>\n",
       "    <tr style=\"text-align: right;\">\n",
       "      <th></th>\n",
       "      <th>C</th>\n",
       "      <th>train_accuracy</th>\n",
       "      <th>validate_accuracy</th>\n",
       "      <th>difference</th>\n",
       "    </tr>\n",
       "  </thead>\n",
       "  <tbody>\n",
       "    <tr>\n",
       "      <th>0</th>\n",
       "      <td>0.001</td>\n",
       "      <td>0.792228</td>\n",
       "      <td>0.784953</td>\n",
       "      <td>0.007275</td>\n",
       "    </tr>\n",
       "    <tr>\n",
       "      <th>1</th>\n",
       "      <td>0.005</td>\n",
       "      <td>0.797308</td>\n",
       "      <td>0.790877</td>\n",
       "      <td>0.006431</td>\n",
       "    </tr>\n",
       "    <tr>\n",
       "      <th>2</th>\n",
       "      <td>0.010</td>\n",
       "      <td>0.800610</td>\n",
       "      <td>0.789100</td>\n",
       "      <td>0.011510</td>\n",
       "    </tr>\n",
       "    <tr>\n",
       "      <th>3</th>\n",
       "      <td>0.050</td>\n",
       "      <td>0.799594</td>\n",
       "      <td>0.790284</td>\n",
       "      <td>0.009309</td>\n",
       "    </tr>\n",
       "    <tr>\n",
       "      <th>4</th>\n",
       "      <td>0.100</td>\n",
       "      <td>0.802642</td>\n",
       "      <td>0.786730</td>\n",
       "      <td>0.015912</td>\n",
       "    </tr>\n",
       "    <tr>\n",
       "      <th>5</th>\n",
       "      <td>0.500</td>\n",
       "      <td>0.799848</td>\n",
       "      <td>0.788507</td>\n",
       "      <td>0.011340</td>\n",
       "    </tr>\n",
       "    <tr>\n",
       "      <th>6</th>\n",
       "      <td>1.000</td>\n",
       "      <td>0.803404</td>\n",
       "      <td>0.787322</td>\n",
       "      <td>0.016081</td>\n",
       "    </tr>\n",
       "    <tr>\n",
       "      <th>7</th>\n",
       "      <td>5.000</td>\n",
       "      <td>0.799340</td>\n",
       "      <td>0.790877</td>\n",
       "      <td>0.008463</td>\n",
       "    </tr>\n",
       "    <tr>\n",
       "      <th>8</th>\n",
       "      <td>10.000</td>\n",
       "      <td>0.802896</td>\n",
       "      <td>0.786730</td>\n",
       "      <td>0.016166</td>\n",
       "    </tr>\n",
       "    <tr>\n",
       "      <th>9</th>\n",
       "      <td>50.000</td>\n",
       "      <td>0.799594</td>\n",
       "      <td>0.790877</td>\n",
       "      <td>0.008717</td>\n",
       "    </tr>\n",
       "    <tr>\n",
       "      <th>10</th>\n",
       "      <td>100.000</td>\n",
       "      <td>0.802134</td>\n",
       "      <td>0.789692</td>\n",
       "      <td>0.012442</td>\n",
       "    </tr>\n",
       "    <tr>\n",
       "      <th>11</th>\n",
       "      <td>500.000</td>\n",
       "      <td>0.798832</td>\n",
       "      <td>0.791469</td>\n",
       "      <td>0.007362</td>\n",
       "    </tr>\n",
       "    <tr>\n",
       "      <th>12</th>\n",
       "      <td>1000.000</td>\n",
       "      <td>0.803150</td>\n",
       "      <td>0.789692</td>\n",
       "      <td>0.013458</td>\n",
       "    </tr>\n",
       "  </tbody>\n",
       "</table>\n",
       "</div>"
      ],
      "text/plain": [
       "           C  train_accuracy  validate_accuracy  difference\n",
       "0      0.001        0.792228           0.784953    0.007275\n",
       "1      0.005        0.797308           0.790877    0.006431\n",
       "2      0.010        0.800610           0.789100    0.011510\n",
       "3      0.050        0.799594           0.790284    0.009309\n",
       "4      0.100        0.802642           0.786730    0.015912\n",
       "5      0.500        0.799848           0.788507    0.011340\n",
       "6      1.000        0.803404           0.787322    0.016081\n",
       "7      5.000        0.799340           0.790877    0.008463\n",
       "8     10.000        0.802896           0.786730    0.016166\n",
       "9     50.000        0.799594           0.790877    0.008717\n",
       "10   100.000        0.802134           0.789692    0.012442\n",
       "11   500.000        0.798832           0.791469    0.007362\n",
       "12  1000.000        0.803150           0.789692    0.013458"
      ]
     },
     "execution_count": 20,
     "metadata": {},
     "output_type": "execute_result"
    }
   ],
   "source": [
    "df3 = md.logistic_regression_model()\n",
    "df3"
   ]
  },
  {
   "cell_type": "code",
   "execution_count": 21,
   "id": "d0407319",
   "metadata": {
    "scrolled": true
   },
   "outputs": [
    {
     "data": {
      "text/html": [
       "<div>\n",
       "<style scoped>\n",
       "    .dataframe tbody tr th:only-of-type {\n",
       "        vertical-align: middle;\n",
       "    }\n",
       "\n",
       "    .dataframe tbody tr th {\n",
       "        vertical-align: top;\n",
       "    }\n",
       "\n",
       "    .dataframe thead th {\n",
       "        text-align: right;\n",
       "    }\n",
       "</style>\n",
       "<table border=\"1\" class=\"dataframe\">\n",
       "  <thead>\n",
       "    <tr style=\"text-align: right;\">\n",
       "      <th></th>\n",
       "      <th>C</th>\n",
       "      <th>train_accuracy</th>\n",
       "      <th>validate_accuracy</th>\n",
       "      <th>difference</th>\n",
       "    </tr>\n",
       "  </thead>\n",
       "  <tbody>\n",
       "    <tr>\n",
       "      <th>1</th>\n",
       "      <td>0.005</td>\n",
       "      <td>0.797308</td>\n",
       "      <td>0.790877</td>\n",
       "      <td>0.006431</td>\n",
       "    </tr>\n",
       "  </tbody>\n",
       "</table>\n",
       "</div>"
      ],
      "text/plain": [
       "       C  train_accuracy  validate_accuracy  difference\n",
       "1  0.005        0.797308           0.790877    0.006431"
      ]
     },
     "execution_count": 21,
     "metadata": {},
     "output_type": "execute_result"
    }
   ],
   "source": [
    "df3[df3.difference == df3.difference.min()]"
   ]
  },
  {
   "cell_type": "markdown",
   "id": "946bcd4c",
   "metadata": {},
   "source": [
    "<code style=\"background:yellow;color:black\">The Logistic Regression model has the most commonly accurate data throughout the dataset and has a lower change of overfitting data with minimal percent differences between both train and validate sets. </code>"
   ]
  },
  {
   "cell_type": "markdown",
   "id": "169597d2",
   "metadata": {},
   "source": [
    "### So, for the test dataset, I'll be selecting the C value from the model where there is most minimal difference between the the accuracy of the train and validate datasets."
   ]
  },
  {
   "cell_type": "markdown",
   "id": "f3f7ca31",
   "metadata": {},
   "source": [
    "- ###  This will be where the C value = 1"
   ]
  },
  {
   "cell_type": "code",
   "execution_count": 22,
   "id": "2b0ee167",
   "metadata": {},
   "outputs": [
    {
     "name": "stdout",
     "output_type": "stream",
     "text": [
      "Test Dataset Accuracy Score : 81.24%\n"
     ]
    }
   ],
   "source": [
    "md.test_dataset_accuracy()"
   ]
  },
  {
   "cell_type": "markdown",
   "id": "89669dc2",
   "metadata": {},
   "source": [
    "### Now I will get the predictions and probability of retaining customers"
   ]
  },
  {
   "cell_type": "code",
   "execution_count": 23,
   "id": "7697459d",
   "metadata": {
    "scrolled": false
   },
   "outputs": [
    {
     "data": {
      "text/html": [
       "<div>\n",
       "<style scoped>\n",
       "    .dataframe tbody tr th:only-of-type {\n",
       "        vertical-align: middle;\n",
       "    }\n",
       "\n",
       "    .dataframe tbody tr th {\n",
       "        vertical-align: top;\n",
       "    }\n",
       "\n",
       "    .dataframe thead th {\n",
       "        text-align: right;\n",
       "    }\n",
       "</style>\n",
       "<table border=\"1\" class=\"dataframe\">\n",
       "  <thead>\n",
       "    <tr style=\"text-align: right;\">\n",
       "      <th></th>\n",
       "      <th>customer_id</th>\n",
       "      <th>probability_of_retention</th>\n",
       "      <th>churn_prediction</th>\n",
       "      <th>actual_churn</th>\n",
       "    </tr>\n",
       "  </thead>\n",
       "  <tbody>\n",
       "    <tr>\n",
       "      <th>3311</th>\n",
       "      <td>4716-MRVEN</td>\n",
       "      <td>0.973144</td>\n",
       "      <td>No</td>\n",
       "      <td>No</td>\n",
       "    </tr>\n",
       "    <tr>\n",
       "      <th>6330</th>\n",
       "      <td>8966-KZXXA</td>\n",
       "      <td>0.987744</td>\n",
       "      <td>No</td>\n",
       "      <td>No</td>\n",
       "    </tr>\n",
       "    <tr>\n",
       "      <th>6156</th>\n",
       "      <td>8720-RQSBJ</td>\n",
       "      <td>0.534560</td>\n",
       "      <td>No</td>\n",
       "      <td>No</td>\n",
       "    </tr>\n",
       "    <tr>\n",
       "      <th>5313</th>\n",
       "      <td>7504-UWHNB</td>\n",
       "      <td>0.621188</td>\n",
       "      <td>No</td>\n",
       "      <td>No</td>\n",
       "    </tr>\n",
       "    <tr>\n",
       "      <th>1176</th>\n",
       "      <td>1730-VFMWO</td>\n",
       "      <td>0.840876</td>\n",
       "      <td>No</td>\n",
       "      <td>No</td>\n",
       "    </tr>\n",
       "    <tr>\n",
       "      <th>...</th>\n",
       "      <td>...</td>\n",
       "      <td>...</td>\n",
       "      <td>...</td>\n",
       "      <td>...</td>\n",
       "    </tr>\n",
       "    <tr>\n",
       "      <th>600</th>\n",
       "      <td>0877-SDMBN</td>\n",
       "      <td>0.877360</td>\n",
       "      <td>No</td>\n",
       "      <td>Yes</td>\n",
       "    </tr>\n",
       "    <tr>\n",
       "      <th>3946</th>\n",
       "      <td>5555-RNPGT</td>\n",
       "      <td>0.909848</td>\n",
       "      <td>No</td>\n",
       "      <td>No</td>\n",
       "    </tr>\n",
       "    <tr>\n",
       "      <th>3230</th>\n",
       "      <td>4628-CTTLA</td>\n",
       "      <td>0.892775</td>\n",
       "      <td>No</td>\n",
       "      <td>Yes</td>\n",
       "    </tr>\n",
       "    <tr>\n",
       "      <th>349</th>\n",
       "      <td>0516-QREYC</td>\n",
       "      <td>0.884457</td>\n",
       "      <td>No</td>\n",
       "      <td>No</td>\n",
       "    </tr>\n",
       "    <tr>\n",
       "      <th>3690</th>\n",
       "      <td>5198-HQAEN</td>\n",
       "      <td>0.799590</td>\n",
       "      <td>No</td>\n",
       "      <td>No</td>\n",
       "    </tr>\n",
       "  </tbody>\n",
       "</table>\n",
       "<p>1407 rows × 4 columns</p>\n",
       "</div>"
      ],
      "text/plain": [
       "     customer_id  probability_of_retention churn_prediction actual_churn\n",
       "3311  4716-MRVEN                  0.973144               No           No\n",
       "6330  8966-KZXXA                  0.987744               No           No\n",
       "6156  8720-RQSBJ                  0.534560               No           No\n",
       "5313  7504-UWHNB                  0.621188               No           No\n",
       "1176  1730-VFMWO                  0.840876               No           No\n",
       "...          ...                       ...              ...          ...\n",
       "600   0877-SDMBN                  0.877360               No          Yes\n",
       "3946  5555-RNPGT                  0.909848               No           No\n",
       "3230  4628-CTTLA                  0.892775               No          Yes\n",
       "349   0516-QREYC                  0.884457               No           No\n",
       "3690  5198-HQAEN                  0.799590               No           No\n",
       "\n",
       "[1407 rows x 4 columns]"
      ]
     },
     "execution_count": 23,
     "metadata": {},
     "output_type": "execute_result"
    }
   ],
   "source": [
    "predictions = md.predictions_and_probability()\n",
    "predictions"
   ]
  },
  {
   "cell_type": "markdown",
   "id": "977d9de9",
   "metadata": {},
   "source": [
    "### *I expect this model to perform with 81% accuracy in the future on new data assuming there is no major changes in the data source or structure.*"
   ]
  },
  {
   "cell_type": "markdown",
   "id": "b1bd29e5",
   "metadata": {},
   "source": [
    "# In Conclusion : \n",
    "What I've discovered : \n",
    "1. Fiber Optic Internet has a major correlation with churn exceeding DSL and No internet service customers combined. \n",
    "2. There is a payment type strongly related to churn. Customers who pay by electronic checks are churning faster than any other category. \n",
    "3. Customers with dependents have on average stayed with Telco longer than those without. \n",
    "4. An overwhelming majority of month-to-month contract customers are churning before they've reached 10 months tenure. "
   ]
  },
  {
   "cell_type": "markdown",
   "id": "6c7249f4",
   "metadata": {},
   "source": [
    "### The constructed logistic regression model is able to predict churn with an 81% accuracy"
   ]
  },
  {
   "cell_type": "markdown",
   "id": "18f5008d",
   "metadata": {},
   "source": [
    "## Recommendations : \n",
    "I recommend reaching out to marketing on the model and insights to reimagine the approach to existing and future Telco Customers."
   ]
  },
  {
   "cell_type": "markdown",
   "id": "f9829631",
   "metadata": {},
   "source": [
    "Why I believe a new approach would help reduce churn : \n",
    "- There are almost as many Fiber Optic Customers than DSL, however, Fiber Optic Churns 3x more. Promote DSL over Fiber Optic, or discount Fiber Optic Internet"
   ]
  },
  {
   "cell_type": "markdown",
   "id": "a0c8c091",
   "metadata": {},
   "source": [
    "- Offer special services for month-to-month contract holders to switch to a 1 year contract as they approach 6 month. "
   ]
  },
  {
   "cell_type": "markdown",
   "id": "8e8f78e4",
   "metadata": {},
   "source": [
    "- Add flexible rates to both families with and without dependents. There is an opportunity to keep and gain loyal customers."
   ]
  },
  {
   "cell_type": "markdown",
   "id": "0b22da2d",
   "metadata": {},
   "source": [
    "### Finally, I will create the predictions and probability csv file for future utilization"
   ]
  },
  {
   "cell_type": "code",
   "execution_count": 24,
   "id": "5dc446d1",
   "metadata": {},
   "outputs": [],
   "source": [
    "predictions.to_csv('telco_churn_prediction.csv')"
   ]
  }
 ],
 "metadata": {
  "kernelspec": {
   "display_name": "Python 3 (ipykernel)",
   "language": "python",
   "name": "python3"
  },
  "language_info": {
   "codemirror_mode": {
    "name": "ipython",
    "version": 3
   },
   "file_extension": ".py",
   "mimetype": "text/x-python",
   "name": "python",
   "nbconvert_exporter": "python",
   "pygments_lexer": "ipython3",
   "version": "3.9.7"
  }
 },
 "nbformat": 4,
 "nbformat_minor": 5
}
